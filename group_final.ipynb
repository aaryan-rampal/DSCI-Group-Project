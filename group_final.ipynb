{
 "cells": [
  {
   "cell_type": "markdown",
   "id": "ef747c6e-1289-4d3a-a3dd-9673b2c077e0",
   "metadata": {},
   "source": [
    "# Exploration of the Heart Disease Data Set"
   ]
  },
  {
   "cell_type": "markdown",
   "id": "9747d044-dc79-4eaa-b12c-d3318a784c95",
   "metadata": {},
   "source": [
    "## Introduction"
   ]
  },
  {
   "cell_type": "markdown",
   "id": "780ca011-e903-4914-a52c-b4624d819d3e",
   "metadata": {},
   "source": [
    "The dataset is taken from the Cleveland, Ohio database. This dataset is a collaboration with physicians from Hungary, Switzerland, Virginia, and Ohio. This database describes 76 attributes, but all experiments that have been published use only 14 as a reference. The `num` column describes the presence of heart disease in the patient. The `col_vessels` column indicates the number of major blood vessels coloured by fluoroscopy. The `slope` column indicates the slope of the peak exercise ST segment (1 = upslope, 2 = flat, 3 = downslope). The `st_depression` column indicates the ST depression induced by exercise relative to rest. The `ex_ang` column indicates whether the patient has exercise induced angina (1 = yes, 0 = no). The `max_hr` column describes indicates a numerical value of the maximum heart rate achieved. The `rest_ecg` indicates the resting electrocardiac results (0 = normal, 1 = ST-T wave abnormality, 2 = probable/definite left ventricular hypertrophy). The `fbs` column indicates whether the patient has a fasting blood sugar of greater than 120 mg/dl (1 = true, 0 = false). The `chol` column describes the serum cholesterol level in mg/dl per patient. The `rest_bps` indicates the resting blood pressure (mm Hg). The `chest_pain` column describes the chest pain in the patient with varying types of anginas (1 = typical angina, 2 = atypical angina, 3 = nonanginal pain, 4 = asymptomatic). The `sex` column indicates the gender of the patient (1 = male, 0 = female). The `defect` column refers to the defect of the heart (3 = normal, 6 = defect, 7 = reversible defect). Lastly, the `age` column indicates the age of the patient. \n",
    "\n",
    "The question we will try to answer is whether a patient will be diagnosed with heart disease, and it's severity. We have a number of predictors, and we will use the technique of backward selection to narrow down our predictors to the few attributes that allow us to predict this most accurately.\n",
    "\n"
   ]
  },
  {
   "cell_type": "markdown",
   "id": "91dd346e-1cb7-4fd7-9f57-6425ccc79e51",
   "metadata": {},
   "source": [
    "## Methods & Results"
   ]
  },
  {
   "cell_type": "code",
   "execution_count": 1,
   "id": "68d0ad2d-417e-4d0f-91f2-71fc2bc21163",
   "metadata": {
    "tags": [],
    "vscode": {
     "languageId": "r"
    }
   },
   "outputs": [
    {
     "name": "stderr",
     "output_type": "stream",
     "text": [
      "── \u001b[1mAttaching packages\u001b[22m ─────────────────────────────────────── tidyverse 1.3.1 ──\n",
      "\n",
      "\u001b[32m✔\u001b[39m \u001b[34mggplot2\u001b[39m 3.3.6     \u001b[32m✔\u001b[39m \u001b[34mpurrr  \u001b[39m 0.3.4\n",
      "\u001b[32m✔\u001b[39m \u001b[34mtibble \u001b[39m 3.1.7     \u001b[32m✔\u001b[39m \u001b[34mdplyr  \u001b[39m 1.0.9\n",
      "\u001b[32m✔\u001b[39m \u001b[34mtidyr  \u001b[39m 1.2.0     \u001b[32m✔\u001b[39m \u001b[34mstringr\u001b[39m 1.4.0\n",
      "\u001b[32m✔\u001b[39m \u001b[34mreadr  \u001b[39m 2.1.2     \u001b[32m✔\u001b[39m \u001b[34mforcats\u001b[39m 0.5.1\n",
      "\n",
      "── \u001b[1mConflicts\u001b[22m ────────────────────────────────────────── tidyverse_conflicts() ──\n",
      "\u001b[31m✖\u001b[39m \u001b[34mdplyr\u001b[39m::\u001b[32mfilter()\u001b[39m masks \u001b[34mstats\u001b[39m::filter()\n",
      "\u001b[31m✖\u001b[39m \u001b[34mdplyr\u001b[39m::\u001b[32mlag()\u001b[39m    masks \u001b[34mstats\u001b[39m::lag()\n",
      "\n",
      "── \u001b[1mAttaching packages\u001b[22m ────────────────────────────────────── tidymodels 1.0.0 ──\n",
      "\n",
      "\u001b[32m✔\u001b[39m \u001b[34mbroom       \u001b[39m 1.0.0     \u001b[32m✔\u001b[39m \u001b[34mrsample     \u001b[39m 1.0.0\n",
      "\u001b[32m✔\u001b[39m \u001b[34mdials       \u001b[39m 1.0.0     \u001b[32m✔\u001b[39m \u001b[34mtune        \u001b[39m 1.0.0\n",
      "\u001b[32m✔\u001b[39m \u001b[34minfer       \u001b[39m 1.0.2     \u001b[32m✔\u001b[39m \u001b[34mworkflows   \u001b[39m 1.0.0\n",
      "\u001b[32m✔\u001b[39m \u001b[34mmodeldata   \u001b[39m 1.0.0     \u001b[32m✔\u001b[39m \u001b[34mworkflowsets\u001b[39m 1.0.0\n",
      "\u001b[32m✔\u001b[39m \u001b[34mparsnip     \u001b[39m 1.0.0     \u001b[32m✔\u001b[39m \u001b[34myardstick   \u001b[39m 1.0.0\n",
      "\u001b[32m✔\u001b[39m \u001b[34mrecipes     \u001b[39m 1.0.1     \n",
      "\n",
      "── \u001b[1mConflicts\u001b[22m ───────────────────────────────────────── tidymodels_conflicts() ──\n",
      "\u001b[31m✖\u001b[39m \u001b[34mscales\u001b[39m::\u001b[32mdiscard()\u001b[39m masks \u001b[34mpurrr\u001b[39m::discard()\n",
      "\u001b[31m✖\u001b[39m \u001b[34mdplyr\u001b[39m::\u001b[32mfilter()\u001b[39m   masks \u001b[34mstats\u001b[39m::filter()\n",
      "\u001b[31m✖\u001b[39m \u001b[34mrecipes\u001b[39m::\u001b[32mfixed()\u001b[39m  masks \u001b[34mstringr\u001b[39m::fixed()\n",
      "\u001b[31m✖\u001b[39m \u001b[34mdplyr\u001b[39m::\u001b[32mlag()\u001b[39m      masks \u001b[34mstats\u001b[39m::lag()\n",
      "\u001b[31m✖\u001b[39m \u001b[34myardstick\u001b[39m::\u001b[32mspec()\u001b[39m masks \u001b[34mreadr\u001b[39m::spec()\n",
      "\u001b[31m✖\u001b[39m \u001b[34mrecipes\u001b[39m::\u001b[32mstep()\u001b[39m   masks \u001b[34mstats\u001b[39m::step()\n",
      "\u001b[34m•\u001b[39m Dig deeper into tidy modeling with R at \u001b[32mhttps://www.tmwr.org\u001b[39m\n",
      "\n",
      "\n",
      "Attaching package: ‘MASS’\n",
      "\n",
      "\n",
      "The following object is masked from ‘package:dplyr’:\n",
      "\n",
      "    select\n",
      "\n",
      "\n",
      "Registered S3 method overwritten by 'GGally':\n",
      "  method from   \n",
      "  +.gg   ggplot2\n",
      "\n",
      "Loading required package: lattice\n",
      "\n",
      "\n",
      "Attaching package: ‘caret’\n",
      "\n",
      "\n",
      "The following objects are masked from ‘package:yardstick’:\n",
      "\n",
      "    precision, recall, sensitivity, specificity\n",
      "\n",
      "\n",
      "The following object is masked from ‘package:purrr’:\n",
      "\n",
      "    lift\n",
      "\n",
      "\n"
     ]
    }
   ],
   "source": [
    "library(tidyverse)\n",
    "library(tidymodels)\n",
    "library(repr)\n",
    "library(MASS)\n",
    "library(GGally)\n",
    "library(caret)\n",
    "\n",
    "options(repr.matrix.max.rows = 6)"
   ]
  },
  {
   "cell_type": "markdown",
   "id": "577d7228-34de-4b2c-9f95-0d805d065d19",
   "metadata": {},
   "source": [
    "### Read the dataset, clean and wrangle the data into a tidy format."
   ]
  },
  {
   "cell_type": "markdown",
   "id": "f50c68e3-4913-4bf6-b39e-1e58e5583a09",
   "metadata": {},
   "source": [
    "Download the dataset from the url and store it into a local file."
   ]
  },
  {
   "cell_type": "code",
   "execution_count": 2,
   "id": "20a84d73-9d3f-40c6-8809-77b401628dd4",
   "metadata": {
    "vscode": {
     "languageId": "r"
    }
   },
   "outputs": [],
   "source": [
    "url = 'https://archive.ics.uci.edu/ml/machine-learning-databases/heart-disease/processed.cleveland.data'\n",
    "\n",
    "download.file(url, destfile = \"data/processed.cleveland.data\")"
   ]
  },
  {
   "cell_type": "markdown",
   "id": "7f02949b-de4d-433f-913b-72344097bd18",
   "metadata": {},
   "source": [
    "Read the file into the dataframe `heart_disease_original`. We will need to manually specify the column types, which are given on the database website."
   ]
  },
  {
   "cell_type": "code",
   "execution_count": 3,
   "id": "98894403-1a6c-420d-a830-2a97128cbf86",
   "metadata": {
    "tags": [],
    "vscode": {
     "languageId": "r"
    }
   },
   "outputs": [
    {
     "name": "stderr",
     "output_type": "stream",
     "text": [
      "\u001b[1mRows: \u001b[22m\u001b[34m303\u001b[39m \u001b[1mColumns: \u001b[22m\u001b[34m14\u001b[39m\n",
      "\u001b[36m──\u001b[39m \u001b[1mColumn specification\u001b[22m \u001b[36m────────────────────────────────────────────────────────\u001b[39m\n",
      "\u001b[1mDelimiter:\u001b[22m \",\"\n",
      "\u001b[31mchr\u001b[39m  (2): col_vessels, defect\n",
      "\u001b[32mdbl\u001b[39m (12): age, sex, chest_pain, rest_bps, chol, fbs, rest_ecg, max_hr, ex_an...\n",
      "\n",
      "\u001b[36mℹ\u001b[39m Use `spec()` to retrieve the full column specification for this data.\n",
      "\u001b[36mℹ\u001b[39m Specify the column types or set `show_col_types = FALSE` to quiet this message.\n"
     ]
    },
    {
     "data": {
      "text/html": [
       "<table class=\"dataframe\">\n",
       "<caption>A tibble: 10 × 14</caption>\n",
       "<thead>\n",
       "\t<tr><th scope=col>age</th><th scope=col>sex</th><th scope=col>chest_pain</th><th scope=col>rest_bps</th><th scope=col>chol</th><th scope=col>fbs</th><th scope=col>rest_ecg</th><th scope=col>max_hr</th><th scope=col>ex_ang</th><th scope=col>st_depression</th><th scope=col>slope</th><th scope=col>col_vessels</th><th scope=col>defect</th><th scope=col>num</th></tr>\n",
       "\t<tr><th scope=col>&lt;dbl&gt;</th><th scope=col>&lt;dbl&gt;</th><th scope=col>&lt;dbl&gt;</th><th scope=col>&lt;dbl&gt;</th><th scope=col>&lt;dbl&gt;</th><th scope=col>&lt;dbl&gt;</th><th scope=col>&lt;dbl&gt;</th><th scope=col>&lt;dbl&gt;</th><th scope=col>&lt;dbl&gt;</th><th scope=col>&lt;dbl&gt;</th><th scope=col>&lt;dbl&gt;</th><th scope=col>&lt;chr&gt;</th><th scope=col>&lt;chr&gt;</th><th scope=col>&lt;dbl&gt;</th></tr>\n",
       "</thead>\n",
       "<tbody>\n",
       "\t<tr><td>63</td><td>1</td><td>1</td><td>145</td><td>233</td><td>1</td><td>2</td><td>150</td><td>0</td><td>2.3</td><td>3</td><td>0.0</td><td>6.0</td><td>0</td></tr>\n",
       "\t<tr><td>67</td><td>1</td><td>4</td><td>160</td><td>286</td><td>0</td><td>2</td><td>108</td><td>1</td><td>1.5</td><td>2</td><td>3.0</td><td>3.0</td><td>2</td></tr>\n",
       "\t<tr><td>67</td><td>1</td><td>4</td><td>120</td><td>229</td><td>0</td><td>2</td><td>129</td><td>1</td><td>2.6</td><td>2</td><td>2.0</td><td>7.0</td><td>1</td></tr>\n",
       "\t<tr><td>⋮</td><td>⋮</td><td>⋮</td><td>⋮</td><td>⋮</td><td>⋮</td><td>⋮</td><td>⋮</td><td>⋮</td><td>⋮</td><td>⋮</td><td>⋮</td><td>⋮</td><td>⋮</td></tr>\n",
       "\t<tr><td>57</td><td>0</td><td>4</td><td>120</td><td>354</td><td>0</td><td>0</td><td>163</td><td>1</td><td>0.6</td><td>1</td><td>0.0</td><td>3.0</td><td>0</td></tr>\n",
       "\t<tr><td>63</td><td>1</td><td>4</td><td>130</td><td>254</td><td>0</td><td>2</td><td>147</td><td>0</td><td>1.4</td><td>2</td><td>1.0</td><td>7.0</td><td>2</td></tr>\n",
       "\t<tr><td>53</td><td>1</td><td>4</td><td>140</td><td>203</td><td>1</td><td>2</td><td>155</td><td>1</td><td>3.1</td><td>3</td><td>0.0</td><td>7.0</td><td>1</td></tr>\n",
       "</tbody>\n",
       "</table>\n"
      ],
      "text/latex": [
       "A tibble: 10 × 14\n",
       "\\begin{tabular}{llllllllllllll}\n",
       " age & sex & chest\\_pain & rest\\_bps & chol & fbs & rest\\_ecg & max\\_hr & ex\\_ang & st\\_depression & slope & col\\_vessels & defect & num\\\\\n",
       " <dbl> & <dbl> & <dbl> & <dbl> & <dbl> & <dbl> & <dbl> & <dbl> & <dbl> & <dbl> & <dbl> & <chr> & <chr> & <dbl>\\\\\n",
       "\\hline\n",
       "\t 63 & 1 & 1 & 145 & 233 & 1 & 2 & 150 & 0 & 2.3 & 3 & 0.0 & 6.0 & 0\\\\\n",
       "\t 67 & 1 & 4 & 160 & 286 & 0 & 2 & 108 & 1 & 1.5 & 2 & 3.0 & 3.0 & 2\\\\\n",
       "\t 67 & 1 & 4 & 120 & 229 & 0 & 2 & 129 & 1 & 2.6 & 2 & 2.0 & 7.0 & 1\\\\\n",
       "\t ⋮ & ⋮ & ⋮ & ⋮ & ⋮ & ⋮ & ⋮ & ⋮ & ⋮ & ⋮ & ⋮ & ⋮ & ⋮ & ⋮\\\\\n",
       "\t 57 & 0 & 4 & 120 & 354 & 0 & 0 & 163 & 1 & 0.6 & 1 & 0.0 & 3.0 & 0\\\\\n",
       "\t 63 & 1 & 4 & 130 & 254 & 0 & 2 & 147 & 0 & 1.4 & 2 & 1.0 & 7.0 & 2\\\\\n",
       "\t 53 & 1 & 4 & 140 & 203 & 1 & 2 & 155 & 1 & 3.1 & 3 & 0.0 & 7.0 & 1\\\\\n",
       "\\end{tabular}\n"
      ],
      "text/markdown": [
       "\n",
       "A tibble: 10 × 14\n",
       "\n",
       "| age &lt;dbl&gt; | sex &lt;dbl&gt; | chest_pain &lt;dbl&gt; | rest_bps &lt;dbl&gt; | chol &lt;dbl&gt; | fbs &lt;dbl&gt; | rest_ecg &lt;dbl&gt; | max_hr &lt;dbl&gt; | ex_ang &lt;dbl&gt; | st_depression &lt;dbl&gt; | slope &lt;dbl&gt; | col_vessels &lt;chr&gt; | defect &lt;chr&gt; | num &lt;dbl&gt; |\n",
       "|---|---|---|---|---|---|---|---|---|---|---|---|---|---|\n",
       "| 63 | 1 | 1 | 145 | 233 | 1 | 2 | 150 | 0 | 2.3 | 3 | 0.0 | 6.0 | 0 |\n",
       "| 67 | 1 | 4 | 160 | 286 | 0 | 2 | 108 | 1 | 1.5 | 2 | 3.0 | 3.0 | 2 |\n",
       "| 67 | 1 | 4 | 120 | 229 | 0 | 2 | 129 | 1 | 2.6 | 2 | 2.0 | 7.0 | 1 |\n",
       "| ⋮ | ⋮ | ⋮ | ⋮ | ⋮ | ⋮ | ⋮ | ⋮ | ⋮ | ⋮ | ⋮ | ⋮ | ⋮ | ⋮ |\n",
       "| 57 | 0 | 4 | 120 | 354 | 0 | 0 | 163 | 1 | 0.6 | 1 | 0.0 | 3.0 | 0 |\n",
       "| 63 | 1 | 4 | 130 | 254 | 0 | 2 | 147 | 0 | 1.4 | 2 | 1.0 | 7.0 | 2 |\n",
       "| 53 | 1 | 4 | 140 | 203 | 1 | 2 | 155 | 1 | 3.1 | 3 | 0.0 | 7.0 | 1 |\n",
       "\n"
      ],
      "text/plain": [
       "   age sex chest_pain rest_bps chol fbs rest_ecg max_hr ex_ang st_depression\n",
       "1  63  1   1          145      233  1   2        150    0      2.3          \n",
       "2  67  1   4          160      286  0   2        108    1      1.5          \n",
       "3  67  1   4          120      229  0   2        129    1      2.6          \n",
       "⋮  ⋮   ⋮   ⋮          ⋮        ⋮    ⋮   ⋮        ⋮      ⋮      ⋮            \n",
       "8  57  0   4          120      354  0   0        163    1      0.6          \n",
       "9  63  1   4          130      254  0   2        147    0      1.4          \n",
       "10 53  1   4          140      203  1   2        155    1      3.1          \n",
       "   slope col_vessels defect num\n",
       "1  3     0.0         6.0    0  \n",
       "2  2     3.0         3.0    2  \n",
       "3  2     2.0         7.0    1  \n",
       "⋮  ⋮     ⋮           ⋮      ⋮  \n",
       "8  1     0.0         3.0    0  \n",
       "9  2     1.0         7.0    2  \n",
       "10 3     0.0         7.0    1  "
      ]
     },
     "metadata": {},
     "output_type": "display_data"
    }
   ],
   "source": [
    "heart_disease_original <- read_csv(\"data/processed.cleveland.data\",\n",
    "                                   # add column names\n",
    "                                   col_names = c(\"age\",\n",
    "                                                 \"sex\",\n",
    "                                                 \"chest_pain\", \n",
    "                                                 \"rest_bps\", \n",
    "                                                 \"chol\", \n",
    "                                                 \"fbs\", \n",
    "                                                 \"rest_ecg\", \n",
    "                                                 \"max_hr\", \n",
    "                                                 \"ex_ang\", \n",
    "                                                 \"st_depression\", \n",
    "                                                 \"slope\", \n",
    "                                                 \"col_vessels\", \n",
    "                                                 \"defect\", \n",
    "                                                 \"num\"))\n",
    "\n",
    "head(heart_disease_original, 10)"
   ]
  },
  {
   "cell_type": "markdown",
   "id": "7162ccc6-7e07-412c-a8f9-411e96bf03cc",
   "metadata": {},
   "source": [
    "Now, we need to wrangle `heart_disease_original` by removing all rows that contain a question mark, filtering essentially NA values and changing the type of `col_vessels` and `defect` to be doubles."
   ]
  },
  {
   "cell_type": "code",
   "execution_count": 4,
   "id": "540ed0c1-41eb-4449-b780-630d1e053e4c",
   "metadata": {
    "vscode": {
     "languageId": "r"
    }
   },
   "outputs": [
    {
     "data": {
      "text/html": [
       "<table class=\"dataframe\">\n",
       "<caption>A tibble: 10 × 14</caption>\n",
       "<thead>\n",
       "\t<tr><th scope=col>age</th><th scope=col>sex</th><th scope=col>chest_pain</th><th scope=col>rest_bps</th><th scope=col>chol</th><th scope=col>fbs</th><th scope=col>rest_ecg</th><th scope=col>max_hr</th><th scope=col>ex_ang</th><th scope=col>st_depression</th><th scope=col>slope</th><th scope=col>col_vessels</th><th scope=col>defect</th><th scope=col>num</th></tr>\n",
       "\t<tr><th scope=col>&lt;dbl&gt;</th><th scope=col>&lt;dbl&gt;</th><th scope=col>&lt;dbl&gt;</th><th scope=col>&lt;dbl&gt;</th><th scope=col>&lt;dbl&gt;</th><th scope=col>&lt;dbl&gt;</th><th scope=col>&lt;dbl&gt;</th><th scope=col>&lt;dbl&gt;</th><th scope=col>&lt;dbl&gt;</th><th scope=col>&lt;dbl&gt;</th><th scope=col>&lt;dbl&gt;</th><th scope=col>&lt;dbl&gt;</th><th scope=col>&lt;dbl&gt;</th><th scope=col>&lt;fct&gt;</th></tr>\n",
       "</thead>\n",
       "<tbody>\n",
       "\t<tr><td>63</td><td>1</td><td>1</td><td>145</td><td>233</td><td>1</td><td>2</td><td>150</td><td>0</td><td>2.3</td><td>3</td><td>0</td><td>6</td><td>0</td></tr>\n",
       "\t<tr><td>67</td><td>1</td><td>4</td><td>160</td><td>286</td><td>0</td><td>2</td><td>108</td><td>1</td><td>1.5</td><td>2</td><td>3</td><td>3</td><td>2</td></tr>\n",
       "\t<tr><td>67</td><td>1</td><td>4</td><td>120</td><td>229</td><td>0</td><td>2</td><td>129</td><td>1</td><td>2.6</td><td>2</td><td>2</td><td>7</td><td>1</td></tr>\n",
       "\t<tr><td>⋮</td><td>⋮</td><td>⋮</td><td>⋮</td><td>⋮</td><td>⋮</td><td>⋮</td><td>⋮</td><td>⋮</td><td>⋮</td><td>⋮</td><td>⋮</td><td>⋮</td><td>⋮</td></tr>\n",
       "\t<tr><td>57</td><td>0</td><td>4</td><td>120</td><td>354</td><td>0</td><td>0</td><td>163</td><td>1</td><td>0.6</td><td>1</td><td>0</td><td>3</td><td>0</td></tr>\n",
       "\t<tr><td>63</td><td>1</td><td>4</td><td>130</td><td>254</td><td>0</td><td>2</td><td>147</td><td>0</td><td>1.4</td><td>2</td><td>1</td><td>7</td><td>2</td></tr>\n",
       "\t<tr><td>53</td><td>1</td><td>4</td><td>140</td><td>203</td><td>1</td><td>2</td><td>155</td><td>1</td><td>3.1</td><td>3</td><td>0</td><td>7</td><td>1</td></tr>\n",
       "</tbody>\n",
       "</table>\n"
      ],
      "text/latex": [
       "A tibble: 10 × 14\n",
       "\\begin{tabular}{llllllllllllll}\n",
       " age & sex & chest\\_pain & rest\\_bps & chol & fbs & rest\\_ecg & max\\_hr & ex\\_ang & st\\_depression & slope & col\\_vessels & defect & num\\\\\n",
       " <dbl> & <dbl> & <dbl> & <dbl> & <dbl> & <dbl> & <dbl> & <dbl> & <dbl> & <dbl> & <dbl> & <dbl> & <dbl> & <fct>\\\\\n",
       "\\hline\n",
       "\t 63 & 1 & 1 & 145 & 233 & 1 & 2 & 150 & 0 & 2.3 & 3 & 0 & 6 & 0\\\\\n",
       "\t 67 & 1 & 4 & 160 & 286 & 0 & 2 & 108 & 1 & 1.5 & 2 & 3 & 3 & 2\\\\\n",
       "\t 67 & 1 & 4 & 120 & 229 & 0 & 2 & 129 & 1 & 2.6 & 2 & 2 & 7 & 1\\\\\n",
       "\t ⋮ & ⋮ & ⋮ & ⋮ & ⋮ & ⋮ & ⋮ & ⋮ & ⋮ & ⋮ & ⋮ & ⋮ & ⋮ & ⋮\\\\\n",
       "\t 57 & 0 & 4 & 120 & 354 & 0 & 0 & 163 & 1 & 0.6 & 1 & 0 & 3 & 0\\\\\n",
       "\t 63 & 1 & 4 & 130 & 254 & 0 & 2 & 147 & 0 & 1.4 & 2 & 1 & 7 & 2\\\\\n",
       "\t 53 & 1 & 4 & 140 & 203 & 1 & 2 & 155 & 1 & 3.1 & 3 & 0 & 7 & 1\\\\\n",
       "\\end{tabular}\n"
      ],
      "text/markdown": [
       "\n",
       "A tibble: 10 × 14\n",
       "\n",
       "| age &lt;dbl&gt; | sex &lt;dbl&gt; | chest_pain &lt;dbl&gt; | rest_bps &lt;dbl&gt; | chol &lt;dbl&gt; | fbs &lt;dbl&gt; | rest_ecg &lt;dbl&gt; | max_hr &lt;dbl&gt; | ex_ang &lt;dbl&gt; | st_depression &lt;dbl&gt; | slope &lt;dbl&gt; | col_vessels &lt;dbl&gt; | defect &lt;dbl&gt; | num &lt;fct&gt; |\n",
       "|---|---|---|---|---|---|---|---|---|---|---|---|---|---|\n",
       "| 63 | 1 | 1 | 145 | 233 | 1 | 2 | 150 | 0 | 2.3 | 3 | 0 | 6 | 0 |\n",
       "| 67 | 1 | 4 | 160 | 286 | 0 | 2 | 108 | 1 | 1.5 | 2 | 3 | 3 | 2 |\n",
       "| 67 | 1 | 4 | 120 | 229 | 0 | 2 | 129 | 1 | 2.6 | 2 | 2 | 7 | 1 |\n",
       "| ⋮ | ⋮ | ⋮ | ⋮ | ⋮ | ⋮ | ⋮ | ⋮ | ⋮ | ⋮ | ⋮ | ⋮ | ⋮ | ⋮ |\n",
       "| 57 | 0 | 4 | 120 | 354 | 0 | 0 | 163 | 1 | 0.6 | 1 | 0 | 3 | 0 |\n",
       "| 63 | 1 | 4 | 130 | 254 | 0 | 2 | 147 | 0 | 1.4 | 2 | 1 | 7 | 2 |\n",
       "| 53 | 1 | 4 | 140 | 203 | 1 | 2 | 155 | 1 | 3.1 | 3 | 0 | 7 | 1 |\n",
       "\n"
      ],
      "text/plain": [
       "   age sex chest_pain rest_bps chol fbs rest_ecg max_hr ex_ang st_depression\n",
       "1  63  1   1          145      233  1   2        150    0      2.3          \n",
       "2  67  1   4          160      286  0   2        108    1      1.5          \n",
       "3  67  1   4          120      229  0   2        129    1      2.6          \n",
       "⋮  ⋮   ⋮   ⋮          ⋮        ⋮    ⋮   ⋮        ⋮      ⋮      ⋮            \n",
       "8  57  0   4          120      354  0   0        163    1      0.6          \n",
       "9  63  1   4          130      254  0   2        147    0      1.4          \n",
       "10 53  1   4          140      203  1   2        155    1      3.1          \n",
       "   slope col_vessels defect num\n",
       "1  3     0           6      0  \n",
       "2  2     3           3      2  \n",
       "3  2     2           7      1  \n",
       "⋮  ⋮     ⋮           ⋮      ⋮  \n",
       "8  1     0           3      0  \n",
       "9  2     1           7      2  \n",
       "10 3     0           7      1  "
      ]
     },
     "metadata": {},
     "output_type": "display_data"
    }
   ],
   "source": [
    "heart_disease <- heart_disease_original %>% \n",
    "\n",
    "                    # remove all rows that contain a question\n",
    "                    # mark (esentially NA values) to supress\n",
    "                    # warnings from R\n",
    "                    filter(defect != \"?\", col_vessels != \"?\") %>%\n",
    "\n",
    "                    # change columns col_vessels and defect to be numeric\n",
    "                    # to allow for tidymodels to work properly\n",
    "                    mutate(col_vessels = as.numeric(col_vessels),\n",
    "                           defect = as.numeric(defect),\n",
    "                           num = as_factor(num)) %>%\n",
    "\n",
    "                    # remove rows with NA values\n",
    "                    na.omit()     \n",
    "\n",
    "\n",
    "head(heart_disease, 10)"
   ]
  },
  {
   "cell_type": "markdown",
   "id": "eadc45af-2e5f-4fb7-8433-a3c4b1223692",
   "metadata": {},
   "source": [
    "Let's check the distribution for our target variable `num`. "
   ]
  },
  {
   "cell_type": "code",
   "execution_count": 5,
   "id": "8b253309-edda-4ea6-9e9b-926d88e1192d",
   "metadata": {
    "vscode": {
     "languageId": "r"
    }
   },
   "outputs": [
    {
     "data": {
      "text/html": [
       "<table class=\"dataframe\">\n",
       "<caption>A tibble: 5 × 3</caption>\n",
       "<thead>\n",
       "\t<tr><th scope=col>num</th><th scope=col>count</th><th scope=col>percent</th></tr>\n",
       "\t<tr><th scope=col>&lt;fct&gt;</th><th scope=col>&lt;int&gt;</th><th scope=col>&lt;dbl&gt;</th></tr>\n",
       "</thead>\n",
       "<tbody>\n",
       "\t<tr><td>0</td><td>160</td><td>53.872054</td></tr>\n",
       "\t<tr><td>1</td><td> 54</td><td>18.181818</td></tr>\n",
       "\t<tr><td>2</td><td> 35</td><td>11.784512</td></tr>\n",
       "\t<tr><td>3</td><td> 35</td><td>11.784512</td></tr>\n",
       "\t<tr><td>4</td><td> 13</td><td> 4.377104</td></tr>\n",
       "</tbody>\n",
       "</table>\n"
      ],
      "text/latex": [
       "A tibble: 5 × 3\n",
       "\\begin{tabular}{lll}\n",
       " num & count & percent\\\\\n",
       " <fct> & <int> & <dbl>\\\\\n",
       "\\hline\n",
       "\t 0 & 160 & 53.872054\\\\\n",
       "\t 1 &  54 & 18.181818\\\\\n",
       "\t 2 &  35 & 11.784512\\\\\n",
       "\t 3 &  35 & 11.784512\\\\\n",
       "\t 4 &  13 &  4.377104\\\\\n",
       "\\end{tabular}\n"
      ],
      "text/markdown": [
       "\n",
       "A tibble: 5 × 3\n",
       "\n",
       "| num &lt;fct&gt; | count &lt;int&gt; | percent &lt;dbl&gt; |\n",
       "|---|---|---|\n",
       "| 0 | 160 | 53.872054 |\n",
       "| 1 |  54 | 18.181818 |\n",
       "| 2 |  35 | 11.784512 |\n",
       "| 3 |  35 | 11.784512 |\n",
       "| 4 |  13 |  4.377104 |\n",
       "\n"
      ],
      "text/plain": [
       "  num count percent  \n",
       "1 0   160   53.872054\n",
       "2 1    54   18.181818\n",
       "3 2    35   11.784512\n",
       "4 3    35   11.784512\n",
       "5 4    13    4.377104"
      ]
     },
     "metadata": {},
     "output_type": "display_data"
    }
   ],
   "source": [
    "heart_disease %>% \n",
    "   group_by(num) %>% \n",
    "   summarize(count = n()) %>%\n",
    "   # we can find the percent by dividing count for each\n",
    "   # num by nrow(heart_disease) which gives us the amount\n",
    "   # of rows in heart_disease\n",
    "   mutate(percent = 100 * (count/nrow(heart_disease)))"
   ]
  },
  {
   "cell_type": "markdown",
   "id": "865800de-6ea4-476a-ac10-8b97acae5623",
   "metadata": {},
   "source": [
    "It looks like there is an uneven proportion of data for `num`. There is a proportionally high amount of rows where `num` is 0 vs where `num` is 1, 2, 3, or 4. Due to the lack of distribution of data, we will likely not get a very accurate k-nn model. We will solve this problem by splitting our data into two. First, we will create a binary representation of this dataframe, where `0` means no heart disease and `1` means heart disease. Then, we will split off the rows where `num = 1, 2, 3, 4` so that if our model predicts possibility of heart disease for the patient, we can then find out how severe the heart disease is."
   ]
  },
  {
   "cell_type": "markdown",
   "id": "563af9ac-b523-4d97-91d8-91cbf07b77af",
   "metadata": {},
   "source": [
    "#### Binary representation"
   ]
  },
  {
   "cell_type": "code",
   "execution_count": 6,
   "id": "74760e7f-d49c-4b58-b1e0-b83b371ffc8a",
   "metadata": {},
   "outputs": [
    {
     "data": {
      "text/html": [
       "<table class=\"dataframe\">\n",
       "<caption>A tibble: 2 × 3</caption>\n",
       "<thead>\n",
       "\t<tr><th scope=col>num</th><th scope=col>count</th><th scope=col>percent</th></tr>\n",
       "\t<tr><th scope=col>&lt;fct&gt;</th><th scope=col>&lt;int&gt;</th><th scope=col>&lt;dbl&gt;</th></tr>\n",
       "</thead>\n",
       "<tbody>\n",
       "\t<tr><td>0</td><td>160</td><td>53.87205</td></tr>\n",
       "\t<tr><td>1</td><td>137</td><td>46.12795</td></tr>\n",
       "</tbody>\n",
       "</table>\n"
      ],
      "text/latex": [
       "A tibble: 2 × 3\n",
       "\\begin{tabular}{lll}\n",
       " num & count & percent\\\\\n",
       " <fct> & <int> & <dbl>\\\\\n",
       "\\hline\n",
       "\t 0 & 160 & 53.87205\\\\\n",
       "\t 1 & 137 & 46.12795\\\\\n",
       "\\end{tabular}\n"
      ],
      "text/markdown": [
       "\n",
       "A tibble: 2 × 3\n",
       "\n",
       "| num &lt;fct&gt; | count &lt;int&gt; | percent &lt;dbl&gt; |\n",
       "|---|---|---|\n",
       "| 0 | 160 | 53.87205 |\n",
       "| 1 | 137 | 46.12795 |\n",
       "\n"
      ],
      "text/plain": [
       "  num count percent \n",
       "1 0   160   53.87205\n",
       "2 1   137   46.12795"
      ]
     },
     "metadata": {},
     "output_type": "display_data"
    }
   ],
   "source": [
    "heart_disease_bin <- heart_disease\n",
    "\n",
    "heart_disease_bin$num <- as.character(heart_disease$num)\n",
    "heart_disease_bin$num[heart_disease$num != 0] <- 1\n",
    "heart_disease_bin$num <- as.factor(heart_disease_bin$num)\n",
    "\n",
    "heart_disease_bin %>% \n",
    "   group_by(num) %>% \n",
    "   summarize(count = n()) %>%\n",
    "   # we can find the percent by dividing count for each\n",
    "   # num by nrow(heart_disease) which gives us the amount\n",
    "   # of rows in heart_disease\n",
    "   mutate(percent = 100 * (count/nrow(heart_disease)))"
   ]
  },
  {
   "cell_type": "code",
   "execution_count": 7,
   "id": "171bf0a0-fb86-4a91-86e3-0e333f1aa560",
   "metadata": {},
   "outputs": [
    {
     "data": {
      "text/html": [
       "<table class=\"dataframe\">\n",
       "<caption>A tibble: 4 × 3</caption>\n",
       "<thead>\n",
       "\t<tr><th scope=col>num</th><th scope=col>count</th><th scope=col>percent</th></tr>\n",
       "\t<tr><th scope=col>&lt;fct&gt;</th><th scope=col>&lt;int&gt;</th><th scope=col>&lt;dbl&gt;</th></tr>\n",
       "</thead>\n",
       "<tbody>\n",
       "\t<tr><td>1</td><td>54</td><td>18.181818</td></tr>\n",
       "\t<tr><td>2</td><td>35</td><td>11.784512</td></tr>\n",
       "\t<tr><td>3</td><td>35</td><td>11.784512</td></tr>\n",
       "\t<tr><td>4</td><td>13</td><td> 4.377104</td></tr>\n",
       "</tbody>\n",
       "</table>\n"
      ],
      "text/latex": [
       "A tibble: 4 × 3\n",
       "\\begin{tabular}{lll}\n",
       " num & count & percent\\\\\n",
       " <fct> & <int> & <dbl>\\\\\n",
       "\\hline\n",
       "\t 1 & 54 & 18.181818\\\\\n",
       "\t 2 & 35 & 11.784512\\\\\n",
       "\t 3 & 35 & 11.784512\\\\\n",
       "\t 4 & 13 &  4.377104\\\\\n",
       "\\end{tabular}\n"
      ],
      "text/markdown": [
       "\n",
       "A tibble: 4 × 3\n",
       "\n",
       "| num &lt;fct&gt; | count &lt;int&gt; | percent &lt;dbl&gt; |\n",
       "|---|---|---|\n",
       "| 1 | 54 | 18.181818 |\n",
       "| 2 | 35 | 11.784512 |\n",
       "| 3 | 35 | 11.784512 |\n",
       "| 4 | 13 |  4.377104 |\n",
       "\n"
      ],
      "text/plain": [
       "  num count percent  \n",
       "1 1   54    18.181818\n",
       "2 2   35    11.784512\n",
       "3 3   35    11.784512\n",
       "4 4   13     4.377104"
      ]
     },
     "metadata": {},
     "output_type": "display_data"
    }
   ],
   "source": [
    "pos_heart_disease <- heart_disease |>\n",
    "    filter(num != 0)\n",
    "\n",
    "pos_heart_disease %>% \n",
    "   group_by(num) %>% \n",
    "   summarize(count = n()) %>%\n",
    "   # we can find the percent by dividing count for each\n",
    "   # num by nrow(heart_disease) which gives us the amount\n",
    "   # of rows in heart_disease\n",
    "   mutate(percent = 100 * (count/nrow(heart_disease)))"
   ]
  },
  {
   "cell_type": "markdown",
   "id": "a3b1f421-8176-4aab-b7f1-69013102c6c9",
   "metadata": {},
   "source": [
    "Now we have created `heart_diease_bin` and `pos_heart_disease`, the former of which only has `num` values of 0 or 1 and the latter of which only has nonzero `num` values. "
   ]
  },
  {
   "cell_type": "markdown",
   "id": "a4f3faae-9867-455f-9038-e9479639bf8c",
   "metadata": {},
   "source": [
    "### Split the dataset into training set and testing set."
   ]
  },
  {
   "cell_type": "markdown",
   "id": "58cdabda-5ab9-4400-9f7e-e576e2dedcd4",
   "metadata": {},
   "source": [
    "We will split our dataset `heart_diease` into a testing and training set. We will upsample the training set, which will hopefully increase the accuracy of our model."
   ]
  },
  {
   "cell_type": "code",
   "execution_count": 8,
   "id": "40e49113-7139-4fa7-9879-e442386e02d5",
   "metadata": {
    "vscode": {
     "languageId": "r"
    }
   },
   "outputs": [
    {
     "data": {
      "text/html": [
       "<table class=\"dataframe\">\n",
       "<caption>A tibble: 6 × 14</caption>\n",
       "<thead>\n",
       "\t<tr><th scope=col>age</th><th scope=col>sex</th><th scope=col>chest_pain</th><th scope=col>rest_bps</th><th scope=col>chol</th><th scope=col>fbs</th><th scope=col>rest_ecg</th><th scope=col>max_hr</th><th scope=col>ex_ang</th><th scope=col>st_depression</th><th scope=col>slope</th><th scope=col>col_vessels</th><th scope=col>defect</th><th scope=col>num</th></tr>\n",
       "\t<tr><th scope=col>&lt;dbl&gt;</th><th scope=col>&lt;dbl&gt;</th><th scope=col>&lt;dbl&gt;</th><th scope=col>&lt;dbl&gt;</th><th scope=col>&lt;dbl&gt;</th><th scope=col>&lt;dbl&gt;</th><th scope=col>&lt;dbl&gt;</th><th scope=col>&lt;dbl&gt;</th><th scope=col>&lt;dbl&gt;</th><th scope=col>&lt;dbl&gt;</th><th scope=col>&lt;dbl&gt;</th><th scope=col>&lt;dbl&gt;</th><th scope=col>&lt;dbl&gt;</th><th scope=col>&lt;fct&gt;</th></tr>\n",
       "</thead>\n",
       "<tbody>\n",
       "\t<tr><td>56</td><td>1</td><td>2</td><td>120</td><td>236</td><td>0</td><td>0</td><td>178</td><td>0</td><td>0.8</td><td>1</td><td>0</td><td>3</td><td>0</td></tr>\n",
       "\t<tr><td>57</td><td>0</td><td>4</td><td>120</td><td>354</td><td>0</td><td>0</td><td>163</td><td>1</td><td>0.6</td><td>1</td><td>0</td><td>3</td><td>0</td></tr>\n",
       "\t<tr><td>52</td><td>1</td><td>3</td><td>172</td><td>199</td><td>1</td><td>0</td><td>162</td><td>0</td><td>0.5</td><td>1</td><td>0</td><td>7</td><td>0</td></tr>\n",
       "\t<tr><td>57</td><td>1</td><td>3</td><td>150</td><td>168</td><td>0</td><td>0</td><td>174</td><td>0</td><td>1.6</td><td>1</td><td>0</td><td>3</td><td>0</td></tr>\n",
       "\t<tr><td>48</td><td>0</td><td>3</td><td>130</td><td>275</td><td>0</td><td>0</td><td>139</td><td>0</td><td>0.2</td><td>1</td><td>0</td><td>3</td><td>0</td></tr>\n",
       "\t<tr><td>58</td><td>0</td><td>1</td><td>150</td><td>283</td><td>1</td><td>2</td><td>162</td><td>0</td><td>1.0</td><td>1</td><td>0</td><td>3</td><td>0</td></tr>\n",
       "</tbody>\n",
       "</table>\n"
      ],
      "text/latex": [
       "A tibble: 6 × 14\n",
       "\\begin{tabular}{llllllllllllll}\n",
       " age & sex & chest\\_pain & rest\\_bps & chol & fbs & rest\\_ecg & max\\_hr & ex\\_ang & st\\_depression & slope & col\\_vessels & defect & num\\\\\n",
       " <dbl> & <dbl> & <dbl> & <dbl> & <dbl> & <dbl> & <dbl> & <dbl> & <dbl> & <dbl> & <dbl> & <dbl> & <dbl> & <fct>\\\\\n",
       "\\hline\n",
       "\t 56 & 1 & 2 & 120 & 236 & 0 & 0 & 178 & 0 & 0.8 & 1 & 0 & 3 & 0\\\\\n",
       "\t 57 & 0 & 4 & 120 & 354 & 0 & 0 & 163 & 1 & 0.6 & 1 & 0 & 3 & 0\\\\\n",
       "\t 52 & 1 & 3 & 172 & 199 & 1 & 0 & 162 & 0 & 0.5 & 1 & 0 & 7 & 0\\\\\n",
       "\t 57 & 1 & 3 & 150 & 168 & 0 & 0 & 174 & 0 & 1.6 & 1 & 0 & 3 & 0\\\\\n",
       "\t 48 & 0 & 3 & 130 & 275 & 0 & 0 & 139 & 0 & 0.2 & 1 & 0 & 3 & 0\\\\\n",
       "\t 58 & 0 & 1 & 150 & 283 & 1 & 2 & 162 & 0 & 1.0 & 1 & 0 & 3 & 0\\\\\n",
       "\\end{tabular}\n"
      ],
      "text/markdown": [
       "\n",
       "A tibble: 6 × 14\n",
       "\n",
       "| age &lt;dbl&gt; | sex &lt;dbl&gt; | chest_pain &lt;dbl&gt; | rest_bps &lt;dbl&gt; | chol &lt;dbl&gt; | fbs &lt;dbl&gt; | rest_ecg &lt;dbl&gt; | max_hr &lt;dbl&gt; | ex_ang &lt;dbl&gt; | st_depression &lt;dbl&gt; | slope &lt;dbl&gt; | col_vessels &lt;dbl&gt; | defect &lt;dbl&gt; | num &lt;fct&gt; |\n",
       "|---|---|---|---|---|---|---|---|---|---|---|---|---|---|\n",
       "| 56 | 1 | 2 | 120 | 236 | 0 | 0 | 178 | 0 | 0.8 | 1 | 0 | 3 | 0 |\n",
       "| 57 | 0 | 4 | 120 | 354 | 0 | 0 | 163 | 1 | 0.6 | 1 | 0 | 3 | 0 |\n",
       "| 52 | 1 | 3 | 172 | 199 | 1 | 0 | 162 | 0 | 0.5 | 1 | 0 | 7 | 0 |\n",
       "| 57 | 1 | 3 | 150 | 168 | 0 | 0 | 174 | 0 | 1.6 | 1 | 0 | 3 | 0 |\n",
       "| 48 | 0 | 3 | 130 | 275 | 0 | 0 | 139 | 0 | 0.2 | 1 | 0 | 3 | 0 |\n",
       "| 58 | 0 | 1 | 150 | 283 | 1 | 2 | 162 | 0 | 1.0 | 1 | 0 | 3 | 0 |\n",
       "\n"
      ],
      "text/plain": [
       "  age sex chest_pain rest_bps chol fbs rest_ecg max_hr ex_ang st_depression\n",
       "1 56  1   2          120      236  0   0        178    0      0.8          \n",
       "2 57  0   4          120      354  0   0        163    1      0.6          \n",
       "3 52  1   3          172      199  1   0        162    0      0.5          \n",
       "4 57  1   3          150      168  0   0        174    0      1.6          \n",
       "5 48  0   3          130      275  0   0        139    0      0.2          \n",
       "6 58  0   1          150      283  1   2        162    0      1.0          \n",
       "  slope col_vessels defect num\n",
       "1 1     0           3      0  \n",
       "2 1     0           3      0  \n",
       "3 1     0           7      0  \n",
       "4 1     0           3      0  \n",
       "5 1     0           3      0  \n",
       "6 1     0           3      0  "
      ]
     },
     "metadata": {},
     "output_type": "display_data"
    }
   ],
   "source": [
    "# setting a seed which will not be changed for the rest of the project\n",
    "set.seed(2023)\n",
    "\n",
    "heart_disease_split <- initial_split(heart_disease_bin, prop = 0.75, strata = num)\n",
    "heart_disease_training <- training(heart_disease_split)\n",
    "heart_disease_testing <- testing(heart_disease_split)\n",
    "\n",
    "head(heart_disease_training)"
   ]
  },
  {
   "cell_type": "markdown",
   "id": "58023c5a-4b60-465f-89f3-f154d8d9bfab",
   "metadata": {},
   "source": [
    "### Selecting Predictors"
   ]
  },
  {
   "cell_type": "markdown",
   "id": "8d540c37-6592-4bd5-8d85-d5065bf39671",
   "metadata": {},
   "source": [
    "#### Backward Selection"
   ]
  },
  {
   "cell_type": "markdown",
   "id": "74e873af-cc2f-4bb3-86d3-ad62f1d00276",
   "metadata": {},
   "source": [
    "Section 6.8.3 of the data science textbook briefly mentions the method of forward selection in R. However, the method it shows is far too manual. The more manual we make our program, the more prone it is to errors. Therefore, we will be using the `MASS` library to import a few functions which allow us to do the same thing [6].\n",
    "\n",
    " Therefore, instead of forward selection, we will use backward selection to remove one predictor at a time. Then, we will check if the AIC of the new model goes down. We will remove the predictor which lowers the AIC the most until we get to a point where removing predictors increases AIC. \n",
    " \n",
    "AIC is a measure used to evaluate the goodness of fit of a statistical model. It takes into account both the complexity of the model and its performance in explaining the data. The main goal of AIC is to find the best balance between model complexity and its ability to explain the observed data. Lower AIC values indicate better model performance, while higher AIC values indicate worse model performance [1].\n",
    "\n",
    "During the backward selection process, we remove the predictor that, when removed, results in the lowest AIC value for the reduced model. We continue to remove predictors one by one, stopping when any further removal of predictors would result in an increase in AIC. By removing predictors that reduce the AIC of the model, we can identify the combination of predictors that provides the best balance between model complexity and predictive accuracy."
   ]
  },
  {
   "cell_type": "code",
   "execution_count": 9,
   "id": "e0d5294f-8339-4f64-b469-4c4d9618997e",
   "metadata": {
    "vscode": {
     "languageId": "r"
    }
   },
   "outputs": [],
   "source": [
    "# the MASS library requires all values to be an integer\n",
    "heart_disease_training_aic <- heart_disease_training %>%\n",
    "    mutate(num = as.numeric(num))"
   ]
  },
  {
   "cell_type": "code",
   "execution_count": 10,
   "id": "3a41ec3c-dd13-4af9-8f84-6e7aa70e0bce",
   "metadata": {
    "vscode": {
     "languageId": "r"
    }
   },
   "outputs": [
    {
     "name": "stdout",
     "output_type": "stream",
     "text": [
      "Start:  AIC=-443.65\n",
      "num ~ age + sex + chest_pain + rest_bps + chol + fbs + rest_ecg + \n",
      "    max_hr + ex_ang + st_depression + slope + col_vessels + defect\n",
      "\n",
      "                Df Sum of Sq    RSS     AIC\n",
      "- chol           1   0.03515 26.561 -445.35\n",
      "- st_depression  1   0.05642 26.583 -445.18\n",
      "- age            1   0.07716 26.604 -445.00\n",
      "- rest_ecg       1   0.17993 26.706 -444.15\n",
      "- slope          1   0.19381 26.720 -444.03\n",
      "- rest_bps       1   0.22132 26.748 -443.80\n",
      "- fbs            1   0.22355 26.750 -443.78\n",
      "<none>                       26.526 -443.65\n",
      "- max_hr         1   0.41169 26.938 -442.23\n",
      "- chest_pain     1   0.61871 27.145 -440.53\n",
      "- sex            1   0.86185 27.388 -438.55\n",
      "- ex_ang         1   0.93857 27.465 -437.93\n",
      "- defect         1   1.84309 28.369 -430.74\n",
      "- col_vessels    1   3.15210 29.678 -420.72\n",
      "\n",
      "Step:  AIC=-445.35\n",
      "num ~ age + sex + chest_pain + rest_bps + fbs + rest_ecg + max_hr + \n",
      "    ex_ang + st_depression + slope + col_vessels + defect\n",
      "\n",
      "                Df Sum of Sq    RSS     AIC\n",
      "- st_depression  1    0.0654 26.627 -446.81\n",
      "- age            1    0.0655 26.627 -446.81\n",
      "- slope          1    0.1789 26.740 -445.86\n",
      "- rest_ecg       1    0.2077 26.769 -445.62\n",
      "- fbs            1    0.2211 26.783 -445.51\n",
      "- rest_bps       1    0.2376 26.799 -445.38\n",
      "<none>                       26.561 -445.35\n",
      "- max_hr         1    0.3934 26.955 -444.09\n",
      "- chest_pain     1    0.6202 27.182 -442.23\n",
      "- sex            1    0.8283 27.390 -440.54\n",
      "- ex_ang         1    0.9711 27.533 -439.38\n",
      "- defect         1    1.8704 28.432 -432.25\n",
      "- col_vessels    1    3.2239 29.785 -421.92\n",
      "\n",
      "Step:  AIC=-446.81\n",
      "num ~ age + sex + chest_pain + rest_bps + fbs + rest_ecg + max_hr + \n",
      "    ex_ang + slope + col_vessels + defect\n",
      "\n",
      "              Df Sum of Sq    RSS     AIC\n",
      "- age          1    0.0661 26.693 -448.26\n",
      "- rest_ecg     1    0.2009 26.828 -447.14\n",
      "- fbs          1    0.2311 26.858 -446.89\n",
      "<none>                     26.627 -446.81\n",
      "- rest_bps     1    0.2908 26.918 -446.40\n",
      "- slope        1    0.4077 27.035 -445.43\n",
      "- max_hr       1    0.4324 27.059 -445.23\n",
      "- chest_pain   1    0.6699 27.297 -443.29\n",
      "- sex          1    0.8722 27.499 -441.65\n",
      "- ex_ang       1    1.0051 27.632 -440.58\n",
      "- defect       1    1.8963 28.523 -433.54\n",
      "- col_vessels  1    3.4037 30.030 -422.10\n",
      "\n",
      "Step:  AIC=-448.26\n",
      "num ~ sex + chest_pain + rest_bps + fbs + rest_ecg + max_hr + \n",
      "    ex_ang + slope + col_vessels + defect\n",
      "\n",
      "              Df Sum of Sq    RSS     AIC\n",
      "- rest_ecg     1    0.1931 26.886 -448.66\n",
      "- fbs          1    0.2394 26.932 -448.28\n",
      "- rest_bps     1    0.2405 26.933 -448.27\n",
      "<none>                     26.693 -448.26\n",
      "- max_hr       1    0.3705 27.063 -447.20\n",
      "- slope        1    0.4231 27.116 -446.77\n",
      "- chest_pain   1    0.6846 27.378 -444.64\n",
      "- sex          1    0.9756 27.669 -442.29\n",
      "- ex_ang       1    1.0603 27.753 -441.61\n",
      "- defect       1    1.8467 28.540 -435.41\n",
      "- col_vessels  1    3.3782 30.071 -423.80\n",
      "\n",
      "Step:  AIC=-448.66\n",
      "num ~ sex + chest_pain + rest_bps + fbs + max_hr + ex_ang + slope + \n",
      "    col_vessels + defect\n",
      "\n",
      "              Df Sum of Sq    RSS     AIC\n",
      "- fbs          1    0.2292 27.115 -448.77\n",
      "<none>                     26.886 -448.66\n",
      "- rest_bps     1    0.3184 27.204 -448.04\n",
      "- max_hr       1    0.3428 27.229 -447.84\n",
      "- slope        1    0.5474 27.433 -446.18\n",
      "- chest_pain   1    0.7072 27.593 -444.89\n",
      "- sex          1    1.0777 27.964 -441.93\n",
      "- ex_ang       1    1.0972 27.983 -441.78\n",
      "- defect       1    1.7539 28.640 -436.63\n",
      "- col_vessels  1    3.5258 30.412 -423.30\n",
      "\n",
      "Step:  AIC=-448.77\n",
      "num ~ sex + chest_pain + rest_bps + max_hr + ex_ang + slope + \n",
      "    col_vessels + defect\n",
      "\n",
      "              Df Sum of Sq    RSS     AIC\n",
      "- rest_bps     1    0.2337 27.349 -448.87\n",
      "<none>                     27.115 -448.77\n",
      "- max_hr       1    0.3810 27.496 -447.68\n",
      "- slope        1    0.5303 27.645 -446.47\n",
      "- chest_pain   1    0.7432 27.858 -444.77\n",
      "- sex          1    1.0486 28.164 -442.35\n",
      "- ex_ang       1    1.0577 28.173 -442.28\n",
      "- defect       1    1.7977 28.913 -436.52\n",
      "- col_vessels  1    3.3302 30.445 -425.06\n",
      "\n",
      "Step:  AIC=-448.87\n",
      "num ~ sex + chest_pain + max_hr + ex_ang + slope + col_vessels + \n",
      "    defect\n",
      "\n",
      "              Df Sum of Sq    RSS     AIC\n",
      "<none>                     27.349 -448.87\n",
      "- max_hr       1    0.3640 27.713 -447.93\n",
      "- slope        1    0.5922 27.941 -446.11\n",
      "- chest_pain   1    0.6003 27.949 -446.05\n",
      "- sex          1    0.9360 28.285 -443.40\n",
      "- ex_ang       1    1.1553 28.504 -441.68\n",
      "- defect       1    2.0884 29.437 -434.53\n",
      "- col_vessels  1    3.4583 30.807 -424.43\n"
     ]
    },
    {
     "data": {
      "text/plain": [
       "\n",
       "Call:\n",
       "lm(formula = num ~ sex + chest_pain + max_hr + ex_ang + slope + \n",
       "    col_vessels + defect, data = heart_disease_training_aic)\n",
       "\n",
       "Coefficients:\n",
       "(Intercept)          sex   chest_pain       max_hr       ex_ang        slope  \n",
       "   0.879380     0.152846     0.067130    -0.002342     0.193006     0.096704  \n",
       "col_vessels       defect  \n",
       "   0.141677     0.061856  \n"
      ]
     },
     "metadata": {},
     "output_type": "display_data"
    }
   ],
   "source": [
    "null <- lm(num ~ 1, data = heart_disease_training_aic) # 1 means no predictor \n",
    "full <- lm(num ~ ., data = heart_disease_training_aic) # use all predictors\n",
    " \n",
    "# this function goes from full (all predictors) to null (no predictors) \n",
    "# and removes the predictor whose removal decreases the AIC the most\n",
    "stepAIC(full, scope = list(lower = null, upper=full), \n",
    "         data = heart_disease_training_aic,\n",
    "         direction = 'backward')"
   ]
  },
  {
   "cell_type": "markdown",
   "id": "1b150c56-f03e-4819-83cb-1aaacca67a1d",
   "metadata": {},
   "source": []
  },
  {
   "cell_type": "markdown",
   "id": "a9e19695-dd52-4cce-bae8-4947dcb5a3f0",
   "metadata": {},
   "source": [
    "### Creation of k-nn Model"
   ]
  },
  {
   "cell_type": "markdown",
   "id": "b14617c5-8420-4cff-a5b5-4cdbe16d9b1a",
   "metadata": {},
   "source": [
    "Since we don't know the best value of $k$ to use for the model, we will use `vfold` and the `tune()` function to determine the accuracy of the model at different values of $k$. Firstly, we will create the recipe."
   ]
  },
  {
   "cell_type": "code",
   "execution_count": 11,
   "id": "49f30307-69ad-4958-a997-76e713839fdd",
   "metadata": {
    "vscode": {
     "languageId": "r"
    }
   },
   "outputs": [],
   "source": [
    "# create recipe for k-nn using the previously mentioned predictors\n",
    "heart_disease_recipe <- recipe(num ~ sex + chest_pain + max_hr + ex_ang + slope + col_vessels + defect,\n",
    "                               data = heart_disease_training) %>%\n",
    "                        # normalize data\n",
    "                        step_scale(all_predictors()) %>%\n",
    "                        step_center(all_predictors())"
   ]
  },
  {
   "cell_type": "markdown",
   "id": "9df41ad4-af68-4ac5-88be-7e5e345e10cc",
   "metadata": {},
   "source": [
    "We will start the $k$ value at 1 and set the upper limit to 70. We chose the upper limit of 70 since it is close enough to 120 (the majority classifier) that our model will naturally start losing accuracy. In an ideal world, we would have the upper limit at exactly the majority classifier but doing `vfold` with 100+ neighbours takes a long computation time."
   ]
  },
  {
   "cell_type": "code",
   "execution_count": 12,
   "id": "193b5166-4d2b-4799-8039-2f372e0ab1ae",
   "metadata": {
    "vscode": {
     "languageId": "r"
    }
   },
   "outputs": [
    {
     "data": {
      "text/html": [
       "<table class=\"dataframe\">\n",
       "<caption>A tibble: 14 × 7</caption>\n",
       "<thead>\n",
       "\t<tr><th scope=col>neighbors</th><th scope=col>.metric</th><th scope=col>.estimator</th><th scope=col>mean</th><th scope=col>n</th><th scope=col>std_err</th><th scope=col>.config</th></tr>\n",
       "\t<tr><th scope=col>&lt;dbl&gt;</th><th scope=col>&lt;chr&gt;</th><th scope=col>&lt;chr&gt;</th><th scope=col>&lt;dbl&gt;</th><th scope=col>&lt;int&gt;</th><th scope=col>&lt;dbl&gt;</th><th scope=col>&lt;chr&gt;</th></tr>\n",
       "</thead>\n",
       "<tbody>\n",
       "\t<tr><td>56</td><td>accuracy</td><td>binary</td><td>0.8333333</td><td>5</td><td>0.01805158</td><td>Preprocessor1_Model12</td></tr>\n",
       "\t<tr><td>61</td><td>accuracy</td><td>binary</td><td>0.8287879</td><td>5</td><td>0.01814671</td><td>Preprocessor1_Model13</td></tr>\n",
       "\t<tr><td>51</td><td>accuracy</td><td>binary</td><td>0.8244444</td><td>5</td><td>0.02553009</td><td>Preprocessor1_Model11</td></tr>\n",
       "\t<tr><td>⋮</td><td>⋮</td><td>⋮</td><td>⋮</td><td>⋮</td><td>⋮</td><td>⋮</td></tr>\n",
       "\t<tr><td> 6</td><td>accuracy</td><td>binary</td><td>0.7975758</td><td>5</td><td>0.02062277</td><td>Preprocessor1_Model02</td></tr>\n",
       "\t<tr><td>21</td><td>accuracy</td><td>binary</td><td>0.7975758</td><td>5</td><td>0.01644201</td><td>Preprocessor1_Model05</td></tr>\n",
       "\t<tr><td> 1</td><td>accuracy</td><td>binary</td><td>0.7385859</td><td>5</td><td>0.01588510</td><td>Preprocessor1_Model01</td></tr>\n",
       "</tbody>\n",
       "</table>\n"
      ],
      "text/latex": [
       "A tibble: 14 × 7\n",
       "\\begin{tabular}{lllllll}\n",
       " neighbors & .metric & .estimator & mean & n & std\\_err & .config\\\\\n",
       " <dbl> & <chr> & <chr> & <dbl> & <int> & <dbl> & <chr>\\\\\n",
       "\\hline\n",
       "\t 56 & accuracy & binary & 0.8333333 & 5 & 0.01805158 & Preprocessor1\\_Model12\\\\\n",
       "\t 61 & accuracy & binary & 0.8287879 & 5 & 0.01814671 & Preprocessor1\\_Model13\\\\\n",
       "\t 51 & accuracy & binary & 0.8244444 & 5 & 0.02553009 & Preprocessor1\\_Model11\\\\\n",
       "\t ⋮ & ⋮ & ⋮ & ⋮ & ⋮ & ⋮ & ⋮\\\\\n",
       "\t  6 & accuracy & binary & 0.7975758 & 5 & 0.02062277 & Preprocessor1\\_Model02\\\\\n",
       "\t 21 & accuracy & binary & 0.7975758 & 5 & 0.01644201 & Preprocessor1\\_Model05\\\\\n",
       "\t  1 & accuracy & binary & 0.7385859 & 5 & 0.01588510 & Preprocessor1\\_Model01\\\\\n",
       "\\end{tabular}\n"
      ],
      "text/markdown": [
       "\n",
       "A tibble: 14 × 7\n",
       "\n",
       "| neighbors &lt;dbl&gt; | .metric &lt;chr&gt; | .estimator &lt;chr&gt; | mean &lt;dbl&gt; | n &lt;int&gt; | std_err &lt;dbl&gt; | .config &lt;chr&gt; |\n",
       "|---|---|---|---|---|---|---|\n",
       "| 56 | accuracy | binary | 0.8333333 | 5 | 0.01805158 | Preprocessor1_Model12 |\n",
       "| 61 | accuracy | binary | 0.8287879 | 5 | 0.01814671 | Preprocessor1_Model13 |\n",
       "| 51 | accuracy | binary | 0.8244444 | 5 | 0.02553009 | Preprocessor1_Model11 |\n",
       "| ⋮ | ⋮ | ⋮ | ⋮ | ⋮ | ⋮ | ⋮ |\n",
       "|  6 | accuracy | binary | 0.7975758 | 5 | 0.02062277 | Preprocessor1_Model02 |\n",
       "| 21 | accuracy | binary | 0.7975758 | 5 | 0.01644201 | Preprocessor1_Model05 |\n",
       "|  1 | accuracy | binary | 0.7385859 | 5 | 0.01588510 | Preprocessor1_Model01 |\n",
       "\n"
      ],
      "text/plain": [
       "   neighbors .metric  .estimator mean      n std_err    .config              \n",
       "1  56        accuracy binary     0.8333333 5 0.01805158 Preprocessor1_Model12\n",
       "2  61        accuracy binary     0.8287879 5 0.01814671 Preprocessor1_Model13\n",
       "3  51        accuracy binary     0.8244444 5 0.02553009 Preprocessor1_Model11\n",
       "⋮  ⋮         ⋮        ⋮          ⋮         ⋮ ⋮          ⋮                    \n",
       "12  6        accuracy binary     0.7975758 5 0.02062277 Preprocessor1_Model02\n",
       "13 21        accuracy binary     0.7975758 5 0.01644201 Preprocessor1_Model05\n",
       "14  1        accuracy binary     0.7385859 5 0.01588510 Preprocessor1_Model01"
      ]
     },
     "metadata": {},
     "output_type": "display_data"
    },
    {
     "data": {
      "text/html": [
       "56"
      ],
      "text/latex": [
       "56"
      ],
      "text/markdown": [
       "56"
      ],
      "text/plain": [
       "[1] 56"
      ]
     },
     "metadata": {},
     "output_type": "display_data"
    }
   ],
   "source": [
    "# we will use a step value of 5 to provide high accuracy while not severly effecting\n",
    "# computation speed\n",
    "k_vals <- tibble(neighbors = seq(from = 1, to = 70, by = 5))\n",
    "\n",
    "# create a standard 5 fold model of the training data\n",
    "heart_disease_vfold <- vfold_cv(heart_disease_training, v = 5, strata = num)\n",
    "\n",
    "# create the specification of our k-nn model using tune() for the neighbours value\n",
    "heart_disease_tune <- nearest_neighbor(weight_func = \"rectangular\", neighbors = tune()) %>%\n",
    "                 set_engine(\"kknn\") %>%\n",
    "                 set_mode(\"classification\")\n",
    "\n",
    "heart_disease_tune_results <- workflow() %>%\n",
    "  # add our recipe and model\n",
    "  add_recipe(heart_disease_recipe) %>%\n",
    "  add_model(heart_disease_tune) %>%\n",
    "  # tune the grid to involve vfold and tuned neighbour \n",
    "  tune_grid(resamples = heart_disease_vfold, grid = k_vals) %>%\n",
    "  collect_metrics() \n",
    "\n",
    "# sort accuracies by the accuracy of the neighbour count\n",
    "(accuracies <- heart_disease_tune_results %>%\n",
    "  filter(.metric == \"accuracy\") %>%\n",
    "  arrange(desc(mean)))\n",
    "\n",
    "# get the k value with the highest accuracy\n",
    "(best_k_value <- accuracies %>%\n",
    "    dplyr::select(neighbors) %>%\n",
    "    slice(1) %>%\n",
    "    pull())"
   ]
  },
  {
   "cell_type": "markdown",
   "id": "0f627c79-f632-449c-b70d-14c76ed5c4bd",
   "metadata": {},
   "source": [
    "It looks like a neighbour count of around 41-46 gives us the highest accuracy. To further hone in on the exact neighbour count which gives us the maximal accuracy, we will repeat this process once more with a more precise range for our k values."
   ]
  },
  {
   "cell_type": "code",
   "execution_count": 13,
   "id": "fb3f1a09-ff65-434e-bf31-8ba1bc3e2e8e",
   "metadata": {
    "vscode": {
     "languageId": "r"
    }
   },
   "outputs": [
    {
     "data": {
      "text/html": [
       "<table class=\"dataframe\">\n",
       "<caption>A tibble: 16 × 7</caption>\n",
       "<thead>\n",
       "\t<tr><th scope=col>neighbors</th><th scope=col>.metric</th><th scope=col>.estimator</th><th scope=col>mean</th><th scope=col>n</th><th scope=col>std_err</th><th scope=col>.config</th></tr>\n",
       "\t<tr><th scope=col>&lt;dbl&gt;</th><th scope=col>&lt;chr&gt;</th><th scope=col>&lt;chr&gt;</th><th scope=col>&lt;dbl&gt;</th><th scope=col>&lt;int&gt;</th><th scope=col>&lt;dbl&gt;</th><th scope=col>&lt;chr&gt;</th></tr>\n",
       "</thead>\n",
       "<tbody>\n",
       "\t<tr><td>55</td><td>accuracy</td><td>binary</td><td>0.8333333</td><td>5</td><td>0.01805158</td><td>Preprocessor1_Model05</td></tr>\n",
       "\t<tr><td>56</td><td>accuracy</td><td>binary</td><td>0.8333333</td><td>5</td><td>0.01805158</td><td>Preprocessor1_Model06</td></tr>\n",
       "\t<tr><td>57</td><td>accuracy</td><td>binary</td><td>0.8333333</td><td>5</td><td>0.01805158</td><td>Preprocessor1_Model07</td></tr>\n",
       "\t<tr><td>⋮</td><td>⋮</td><td>⋮</td><td>⋮</td><td>⋮</td><td>⋮</td><td>⋮</td></tr>\n",
       "\t<tr><td>52</td><td>accuracy</td><td>binary</td><td>0.8244444</td><td>5</td><td>0.02553009</td><td>Preprocessor1_Model02</td></tr>\n",
       "\t<tr><td>65</td><td>accuracy</td><td>binary</td><td>0.8198990</td><td>5</td><td>0.01840464</td><td>Preprocessor1_Model15</td></tr>\n",
       "\t<tr><td>66</td><td>accuracy</td><td>binary</td><td>0.8198990</td><td>5</td><td>0.01840464</td><td>Preprocessor1_Model16</td></tr>\n",
       "</tbody>\n",
       "</table>\n"
      ],
      "text/latex": [
       "A tibble: 16 × 7\n",
       "\\begin{tabular}{lllllll}\n",
       " neighbors & .metric & .estimator & mean & n & std\\_err & .config\\\\\n",
       " <dbl> & <chr> & <chr> & <dbl> & <int> & <dbl> & <chr>\\\\\n",
       "\\hline\n",
       "\t 55 & accuracy & binary & 0.8333333 & 5 & 0.01805158 & Preprocessor1\\_Model05\\\\\n",
       "\t 56 & accuracy & binary & 0.8333333 & 5 & 0.01805158 & Preprocessor1\\_Model06\\\\\n",
       "\t 57 & accuracy & binary & 0.8333333 & 5 & 0.01805158 & Preprocessor1\\_Model07\\\\\n",
       "\t ⋮ & ⋮ & ⋮ & ⋮ & ⋮ & ⋮ & ⋮\\\\\n",
       "\t 52 & accuracy & binary & 0.8244444 & 5 & 0.02553009 & Preprocessor1\\_Model02\\\\\n",
       "\t 65 & accuracy & binary & 0.8198990 & 5 & 0.01840464 & Preprocessor1\\_Model15\\\\\n",
       "\t 66 & accuracy & binary & 0.8198990 & 5 & 0.01840464 & Preprocessor1\\_Model16\\\\\n",
       "\\end{tabular}\n"
      ],
      "text/markdown": [
       "\n",
       "A tibble: 16 × 7\n",
       "\n",
       "| neighbors &lt;dbl&gt; | .metric &lt;chr&gt; | .estimator &lt;chr&gt; | mean &lt;dbl&gt; | n &lt;int&gt; | std_err &lt;dbl&gt; | .config &lt;chr&gt; |\n",
       "|---|---|---|---|---|---|---|\n",
       "| 55 | accuracy | binary | 0.8333333 | 5 | 0.01805158 | Preprocessor1_Model05 |\n",
       "| 56 | accuracy | binary | 0.8333333 | 5 | 0.01805158 | Preprocessor1_Model06 |\n",
       "| 57 | accuracy | binary | 0.8333333 | 5 | 0.01805158 | Preprocessor1_Model07 |\n",
       "| ⋮ | ⋮ | ⋮ | ⋮ | ⋮ | ⋮ | ⋮ |\n",
       "| 52 | accuracy | binary | 0.8244444 | 5 | 0.02553009 | Preprocessor1_Model02 |\n",
       "| 65 | accuracy | binary | 0.8198990 | 5 | 0.01840464 | Preprocessor1_Model15 |\n",
       "| 66 | accuracy | binary | 0.8198990 | 5 | 0.01840464 | Preprocessor1_Model16 |\n",
       "\n"
      ],
      "text/plain": [
       "   neighbors .metric  .estimator mean      n std_err    .config              \n",
       "1  55        accuracy binary     0.8333333 5 0.01805158 Preprocessor1_Model05\n",
       "2  56        accuracy binary     0.8333333 5 0.01805158 Preprocessor1_Model06\n",
       "3  57        accuracy binary     0.8333333 5 0.01805158 Preprocessor1_Model07\n",
       "⋮  ⋮         ⋮        ⋮          ⋮         ⋮ ⋮          ⋮                    \n",
       "14 52        accuracy binary     0.8244444 5 0.02553009 Preprocessor1_Model02\n",
       "15 65        accuracy binary     0.8198990 5 0.01840464 Preprocessor1_Model15\n",
       "16 66        accuracy binary     0.8198990 5 0.01840464 Preprocessor1_Model16"
      ]
     },
     "metadata": {},
     "output_type": "display_data"
    },
    {
     "data": {
      "text/html": [
       "55"
      ],
      "text/latex": [
       "55"
      ],
      "text/markdown": [
       "55"
      ],
      "text/plain": [
       "[1] 55"
      ]
     },
     "metadata": {},
     "output_type": "display_data"
    }
   ],
   "source": [
    "# since 46 seems to be in the same range as 41 for the accuracy, we will let this tibble\n",
    "# extend more to the right of the best_k_value than to the left\n",
    "k_vals_precise <- tibble(neighbors = seq(from = best_k_value - 5, to = best_k_value + 10, by = 1))\n",
    "\n",
    "\n",
    "# the rest of this code is essentially copy pasted from the last time we ran this\n",
    "# workflow, but with updated names; notice that we can reuse our old recipe and \n",
    "# specification\n",
    "heart_disease_tune_results_precise <- workflow() %>%\n",
    "  add_recipe(heart_disease_recipe) %>%\n",
    "  add_model(heart_disease_tune) %>%\n",
    "  tune_grid(resamples = heart_disease_vfold, grid = k_vals_precise) %>%\n",
    "  collect_metrics() \n",
    "\n",
    "(accuracies_precise <- heart_disease_tune_results_precise %>%\n",
    "  filter(.metric == \"accuracy\") %>%\n",
    "  arrange(desc(mean)))\n",
    "\n",
    "(best_k_value_precise <- accuracies_precise %>%\n",
    "    dplyr::select(neighbors) %>%\n",
    "    slice(1) %>%\n",
    "    pull())"
   ]
  },
  {
   "cell_type": "markdown",
   "id": "67a05729-3f5a-4a6c-83f2-ed9203debfdb",
   "metadata": {},
   "source": [
    "We will now plot the accuracy vs the neighbour count to get a better idea of what this data looks like."
   ]
  },
  {
   "cell_type": "code",
   "execution_count": 14,
   "id": "78bfd0ea-14ef-48b5-b104-0cf148a12cee",
   "metadata": {
    "vscode": {
     "languageId": "r"
    }
   },
   "outputs": [
    {
     "data": {
      "image/png": "[encoded data removed]",
      "text/plain": [
       "plot without title"
      ]
     },
     "metadata": {
      "image/png": {
       "height": 480,
       "width": 720
      }
     },
     "output_type": "display_data"
    }
   ],
   "source": [
    "options(repr.plot.width = 12, repr.plot.height = 8)\n",
    "\n",
    "(accuracy_vs_k_precise <- ggplot(accuracies_precise, aes(x = neighbors, y = mean)) +\n",
    "  geom_point() +\n",
    "  geom_line() +\n",
    "  labs(x = \"Neighbors\", y = \"Accuracy Estimate\") + \n",
    "  theme(text = element_text(size = 12)))"
   ]
  },
  {
   "cell_type": "markdown",
   "id": "28292092-9f80-4d4c-851d-78c5925b2db6",
   "metadata": {},
   "source": [
    "It looks like $k = 38$ gives the highest accuracy value, which tapers and rises all the way to $k = 43$. From there it tapers off to a lower accuracy."
   ]
  },
  {
   "cell_type": "markdown",
   "id": "1aef4b0a-61da-435c-af06-8e7b683d3a2f",
   "metadata": {},
   "source": [
    "### Final Model with Known K-Value"
   ]
  },
  {
   "cell_type": "code",
   "execution_count": 15,
   "id": "d05a8dbb-0547-47df-b919-d89626c1df93",
   "metadata": {
    "vscode": {
     "languageId": "r"
    }
   },
   "outputs": [],
   "source": [
    "knn_spec <- nearest_neighbor(weight_func = \"rectangular\", \n",
    "                             neighbors = best_k_value_precise) %>%\n",
    "  set_engine(\"kknn\") %>%\n",
    "  set_mode(\"classification\")\n",
    "\n",
    "knn_fit <- workflow() %>%\n",
    "  add_recipe(heart_disease_recipe) %>%\n",
    "  add_model(knn_spec) %>%\n",
    "  fit(data = heart_disease_training)"
   ]
  },
  {
   "cell_type": "code",
   "execution_count": 16,
   "id": "0f8e432b-e891-4114-a133-0d285d8609e8",
   "metadata": {
    "vscode": {
     "languageId": "r"
    }
   },
   "outputs": [
    {
     "data": {
      "text/html": [
       "<table class=\"dataframe\">\n",
       "<caption>A tibble: 1 × 3</caption>\n",
       "<thead>\n",
       "\t<tr><th scope=col>.metric</th><th scope=col>.estimator</th><th scope=col>.estimate</th></tr>\n",
       "\t<tr><th scope=col>&lt;chr&gt;</th><th scope=col>&lt;chr&gt;</th><th scope=col>&lt;dbl&gt;</th></tr>\n",
       "</thead>\n",
       "<tbody>\n",
       "\t<tr><td>accuracy</td><td>binary</td><td>0.8666667</td></tr>\n",
       "</tbody>\n",
       "</table>\n"
      ],
      "text/latex": [
       "A tibble: 1 × 3\n",
       "\\begin{tabular}{lll}\n",
       " .metric & .estimator & .estimate\\\\\n",
       " <chr> & <chr> & <dbl>\\\\\n",
       "\\hline\n",
       "\t accuracy & binary & 0.8666667\\\\\n",
       "\\end{tabular}\n"
      ],
      "text/markdown": [
       "\n",
       "A tibble: 1 × 3\n",
       "\n",
       "| .metric &lt;chr&gt; | .estimator &lt;chr&gt; | .estimate &lt;dbl&gt; |\n",
       "|---|---|---|\n",
       "| accuracy | binary | 0.8666667 |\n",
       "\n"
      ],
      "text/plain": [
       "  .metric  .estimator .estimate\n",
       "1 accuracy binary     0.8666667"
      ]
     },
     "metadata": {},
     "output_type": "display_data"
    }
   ],
   "source": [
    "heart_disease_test_predictions <- predict(knn_fit, heart_disease_testing) %>%\n",
    "  bind_cols(heart_disease_testing)\n",
    "\n",
    "(heart_disease_test_predictions %>%\n",
    "  metrics(truth = num, estimate = .pred_class) %>%\n",
    "  filter(.metric == \"accuracy\"))"
   ]
  },
  {
   "cell_type": "markdown",
   "id": "5fac9461-4933-4220-a822-83f639fa65dd",
   "metadata": {},
   "source": [
    "It looks like our final model accuracy is 59%. If we remember from before, our majority classifier was `num = 0` which made up of 54% of the original data. This means that our model's accuracy improved upon just guessing every patient to have no heart disease by 5%. This may not seem like much, but due to the un-uniformity of our data, it makes sense that we did not achieve an incredibly accurate model.\n",
    "\n",
    "Let's visualize how our confusion matrix looks like."
   ]
  },
  {
   "cell_type": "code",
   "execution_count": 17,
   "id": "de3f0779-659d-405a-9d39-0475de04b13d",
   "metadata": {
    "vscode": {
     "languageId": "r"
    }
   },
   "outputs": [
    {
     "name": "stderr",
     "output_type": "stream",
     "text": [
      "Scale for 'fill' is already present. Adding another scale for 'fill', which\n",
      "will replace the existing scale.\n",
      "\n"
     ]
    },
    {
     "data": {
      "image/png": "[encoded data removed]",
      "text/plain": [
       "plot without title"
      ]
     },
     "metadata": {
      "image/png": {
       "height": 480,
       "width": 480
      }
     },
     "output_type": "display_data"
    }
   ],
   "source": [
    "options(repr.plot.width = 8, repr.plot.height = 8)\n",
    "\n",
    "confusion <- heart_disease_test_predictions %>%\n",
    "             conf_mat(truth = num, estimate = .pred_class)\n",
    "\n",
    "autoplot(confusion, type = \"heatmap\") +\n",
    "  scale_fill_gradient(low = \"red\", high = \"green\") +\n",
    "  ggtitle(\"Confusion Matrix\") +\n",
    "  # make all text bigger\n",
    "  theme(\n",
    "      axis.title.x = element_text(size = 14),\n",
    "      axis.title.y = element_text(size = 14),\n",
    "      plot.title = element_text(size = 20)\n",
    "  )"
   ]
  },
  {
   "cell_type": "markdown",
   "id": "5a323a5e-eb5a-4f61-a36e-0d5c9fa1f1dd",
   "metadata": {},
   "source": [
    "It looks like our model is extremely accurate at guessing when the patient has no heart disease. There was only 1 case where the patient did not have heart disease but our model assumed they did. However, where our model struggles is classifying patients with heart disease. For a `num` value of 2 and 3, our model only correctly classified once whereas it was never accurate in correctly classifying a `num` value of 4. This makes sense, since we had an under-representation of the `num` values of 1, 2, 3, and 4 in our original data which we had to compensate for by upsampling."
   ]
  },
  {
   "cell_type": "markdown",
   "id": "edc45250-efde-45e8-99ee-cf3f1e66442f",
   "metadata": {},
   "source": [
    "We still have a bit more left though. Whenever our model detected heart disease (predicted a 1 for `num`), we need to run it through another k-nn model."
   ]
  },
  {
   "cell_type": "code",
   "execution_count": 20,
   "id": "276f2889-b4b8-456d-9708-af4e24e6f688",
   "metadata": {},
   "outputs": [
    {
     "data": {
      "text/html": [
       "<table class=\"dataframe\">\n",
       "<caption>A tibble: 75 × 14</caption>\n",
       "<thead>\n",
       "\t<tr><th scope=col>num</th><th scope=col>age</th><th scope=col>sex</th><th scope=col>chest_pain</th><th scope=col>rest_bps</th><th scope=col>chol</th><th scope=col>fbs</th><th scope=col>rest_ecg</th><th scope=col>max_hr</th><th scope=col>ex_ang</th><th scope=col>st_depression</th><th scope=col>slope</th><th scope=col>col_vessels</th><th scope=col>defect</th></tr>\n",
       "\t<tr><th scope=col>&lt;fct&gt;</th><th scope=col>&lt;dbl&gt;</th><th scope=col>&lt;dbl&gt;</th><th scope=col>&lt;dbl&gt;</th><th scope=col>&lt;dbl&gt;</th><th scope=col>&lt;dbl&gt;</th><th scope=col>&lt;dbl&gt;</th><th scope=col>&lt;dbl&gt;</th><th scope=col>&lt;dbl&gt;</th><th scope=col>&lt;dbl&gt;</th><th scope=col>&lt;dbl&gt;</th><th scope=col>&lt;dbl&gt;</th><th scope=col>&lt;dbl&gt;</th><th scope=col>&lt;dbl&gt;</th></tr>\n",
       "</thead>\n",
       "<tbody>\n",
       "\t<tr><td>0</td><td>63</td><td>1</td><td>1</td><td>145</td><td>233</td><td>1</td><td>2</td><td>150</td><td>0</td><td>2.3</td><td>3</td><td>0</td><td>6</td></tr>\n",
       "\t<tr><td>1</td><td>67</td><td>1</td><td>4</td><td>160</td><td>286</td><td>0</td><td>2</td><td>108</td><td>1</td><td>1.5</td><td>2</td><td>3</td><td>3</td></tr>\n",
       "\t<tr><td>0</td><td>37</td><td>1</td><td>3</td><td>130</td><td>250</td><td>0</td><td>0</td><td>187</td><td>0</td><td>3.5</td><td>3</td><td>0</td><td>3</td></tr>\n",
       "\t<tr><td>⋮</td><td>⋮</td><td>⋮</td><td>⋮</td><td>⋮</td><td>⋮</td><td>⋮</td><td>⋮</td><td>⋮</td><td>⋮</td><td>⋮</td><td>⋮</td><td>⋮</td><td>⋮</td></tr>\n",
       "\t<tr><td>1</td><td>59</td><td>1</td><td>4</td><td>164</td><td>176</td><td>1</td><td>2</td><td> 90</td><td>0</td><td>1.0</td><td>2</td><td>2</td><td>6</td></tr>\n",
       "\t<tr><td>0</td><td>45</td><td>1</td><td>1</td><td>110</td><td>264</td><td>0</td><td>0</td><td>132</td><td>0</td><td>1.2</td><td>2</td><td>0</td><td>7</td></tr>\n",
       "\t<tr><td>1</td><td>68</td><td>1</td><td>4</td><td>144</td><td>193</td><td>1</td><td>0</td><td>141</td><td>0</td><td>3.4</td><td>2</td><td>2</td><td>7</td></tr>\n",
       "</tbody>\n",
       "</table>\n"
      ],
      "text/latex": [
       "A tibble: 75 × 14\n",
       "\\begin{tabular}{llllllllllllll}\n",
       " num & age & sex & chest\\_pain & rest\\_bps & chol & fbs & rest\\_ecg & max\\_hr & ex\\_ang & st\\_depression & slope & col\\_vessels & defect\\\\\n",
       " <fct> & <dbl> & <dbl> & <dbl> & <dbl> & <dbl> & <dbl> & <dbl> & <dbl> & <dbl> & <dbl> & <dbl> & <dbl> & <dbl>\\\\\n",
       "\\hline\n",
       "\t 0 & 63 & 1 & 1 & 145 & 233 & 1 & 2 & 150 & 0 & 2.3 & 3 & 0 & 6\\\\\n",
       "\t 1 & 67 & 1 & 4 & 160 & 286 & 0 & 2 & 108 & 1 & 1.5 & 2 & 3 & 3\\\\\n",
       "\t 0 & 37 & 1 & 3 & 130 & 250 & 0 & 0 & 187 & 0 & 3.5 & 3 & 0 & 3\\\\\n",
       "\t ⋮ & ⋮ & ⋮ & ⋮ & ⋮ & ⋮ & ⋮ & ⋮ & ⋮ & ⋮ & ⋮ & ⋮ & ⋮ & ⋮\\\\\n",
       "\t 1 & 59 & 1 & 4 & 164 & 176 & 1 & 2 &  90 & 0 & 1.0 & 2 & 2 & 6\\\\\n",
       "\t 0 & 45 & 1 & 1 & 110 & 264 & 0 & 0 & 132 & 0 & 1.2 & 2 & 0 & 7\\\\\n",
       "\t 1 & 68 & 1 & 4 & 144 & 193 & 1 & 0 & 141 & 0 & 3.4 & 2 & 2 & 7\\\\\n",
       "\\end{tabular}\n"
      ],
      "text/markdown": [
       "\n",
       "A tibble: 75 × 14\n",
       "\n",
       "| num &lt;fct&gt; | age &lt;dbl&gt; | sex &lt;dbl&gt; | chest_pain &lt;dbl&gt; | rest_bps &lt;dbl&gt; | chol &lt;dbl&gt; | fbs &lt;dbl&gt; | rest_ecg &lt;dbl&gt; | max_hr &lt;dbl&gt; | ex_ang &lt;dbl&gt; | st_depression &lt;dbl&gt; | slope &lt;dbl&gt; | col_vessels &lt;dbl&gt; | defect &lt;dbl&gt; |\n",
       "|---|---|---|---|---|---|---|---|---|---|---|---|---|---|\n",
       "| 0 | 63 | 1 | 1 | 145 | 233 | 1 | 2 | 150 | 0 | 2.3 | 3 | 0 | 6 |\n",
       "| 1 | 67 | 1 | 4 | 160 | 286 | 0 | 2 | 108 | 1 | 1.5 | 2 | 3 | 3 |\n",
       "| 0 | 37 | 1 | 3 | 130 | 250 | 0 | 0 | 187 | 0 | 3.5 | 3 | 0 | 3 |\n",
       "| ⋮ | ⋮ | ⋮ | ⋮ | ⋮ | ⋮ | ⋮ | ⋮ | ⋮ | ⋮ | ⋮ | ⋮ | ⋮ | ⋮ |\n",
       "| 1 | 59 | 1 | 4 | 164 | 176 | 1 | 2 |  90 | 0 | 1.0 | 2 | 2 | 6 |\n",
       "| 0 | 45 | 1 | 1 | 110 | 264 | 0 | 0 | 132 | 0 | 1.2 | 2 | 0 | 7 |\n",
       "| 1 | 68 | 1 | 4 | 144 | 193 | 1 | 0 | 141 | 0 | 3.4 | 2 | 2 | 7 |\n",
       "\n"
      ],
      "text/plain": [
       "   num age sex chest_pain rest_bps chol fbs rest_ecg max_hr ex_ang\n",
       "1  0   63  1   1          145      233  1   2        150    0     \n",
       "2  1   67  1   4          160      286  0   2        108    1     \n",
       "3  0   37  1   3          130      250  0   0        187    0     \n",
       "⋮  ⋮   ⋮   ⋮   ⋮          ⋮        ⋮    ⋮   ⋮        ⋮      ⋮     \n",
       "73 1   59  1   4          164      176  1   2         90    0     \n",
       "74 0   45  1   1          110      264  0   0        132    0     \n",
       "75 1   68  1   4          144      193  1   0        141    0     \n",
       "   st_depression slope col_vessels defect\n",
       "1  2.3           3     0           6     \n",
       "2  1.5           2     3           3     \n",
       "3  3.5           3     0           3     \n",
       "⋮  ⋮             ⋮     ⋮           ⋮     \n",
       "73 1.0           2     2           6     \n",
       "74 1.2           2     0           7     \n",
       "75 3.4           2     2           7     "
      ]
     },
     "metadata": {},
     "output_type": "display_data"
    }
   ],
   "source": [
    "(heart_disease_subset <- heart_disease_test_predictions |> \n",
    "    dplyr::select(-num) |>\n",
    "    rename(num = .pred_class))"
   ]
  },
  {
   "cell_type": "code",
   "execution_count": 21,
   "id": "968f8d08-42ab-4b5b-b159-81af5587a0d6",
   "metadata": {},
   "outputs": [
    {
     "data": {
      "text/html": [
       "<table class=\"dataframe\">\n",
       "<caption>A tibble: 6 × 14</caption>\n",
       "<thead>\n",
       "\t<tr><th scope=col>age</th><th scope=col>sex</th><th scope=col>chest_pain</th><th scope=col>rest_bps</th><th scope=col>chol</th><th scope=col>fbs</th><th scope=col>rest_ecg</th><th scope=col>max_hr</th><th scope=col>ex_ang</th><th scope=col>st_depression</th><th scope=col>slope</th><th scope=col>col_vessels</th><th scope=col>defect</th><th scope=col>num</th></tr>\n",
       "\t<tr><th scope=col>&lt;dbl&gt;</th><th scope=col>&lt;dbl&gt;</th><th scope=col>&lt;dbl&gt;</th><th scope=col>&lt;dbl&gt;</th><th scope=col>&lt;dbl&gt;</th><th scope=col>&lt;dbl&gt;</th><th scope=col>&lt;dbl&gt;</th><th scope=col>&lt;dbl&gt;</th><th scope=col>&lt;dbl&gt;</th><th scope=col>&lt;dbl&gt;</th><th scope=col>&lt;dbl&gt;</th><th scope=col>&lt;dbl&gt;</th><th scope=col>&lt;dbl&gt;</th><th scope=col>&lt;fct&gt;</th></tr>\n",
       "</thead>\n",
       "<tbody>\n",
       "\t<tr><td>56</td><td>1</td><td>2</td><td>120</td><td>236</td><td>0</td><td>0</td><td>178</td><td>0</td><td>0.8</td><td>1</td><td>0</td><td>3</td><td>0</td></tr>\n",
       "\t<tr><td>57</td><td>0</td><td>4</td><td>120</td><td>354</td><td>0</td><td>0</td><td>163</td><td>1</td><td>0.6</td><td>1</td><td>0</td><td>3</td><td>0</td></tr>\n",
       "\t<tr><td>52</td><td>1</td><td>3</td><td>172</td><td>199</td><td>1</td><td>0</td><td>162</td><td>0</td><td>0.5</td><td>1</td><td>0</td><td>7</td><td>0</td></tr>\n",
       "\t<tr><td>57</td><td>1</td><td>3</td><td>150</td><td>168</td><td>0</td><td>0</td><td>174</td><td>0</td><td>1.6</td><td>1</td><td>0</td><td>3</td><td>0</td></tr>\n",
       "\t<tr><td>48</td><td>0</td><td>3</td><td>130</td><td>275</td><td>0</td><td>0</td><td>139</td><td>0</td><td>0.2</td><td>1</td><td>0</td><td>3</td><td>0</td></tr>\n",
       "\t<tr><td>58</td><td>0</td><td>1</td><td>150</td><td>283</td><td>1</td><td>2</td><td>162</td><td>0</td><td>1.0</td><td>1</td><td>0</td><td>3</td><td>0</td></tr>\n",
       "</tbody>\n",
       "</table>\n"
      ],
      "text/latex": [
       "A tibble: 6 × 14\n",
       "\\begin{tabular}{llllllllllllll}\n",
       " age & sex & chest\\_pain & rest\\_bps & chol & fbs & rest\\_ecg & max\\_hr & ex\\_ang & st\\_depression & slope & col\\_vessels & defect & num\\\\\n",
       " <dbl> & <dbl> & <dbl> & <dbl> & <dbl> & <dbl> & <dbl> & <dbl> & <dbl> & <dbl> & <dbl> & <dbl> & <dbl> & <fct>\\\\\n",
       "\\hline\n",
       "\t 56 & 1 & 2 & 120 & 236 & 0 & 0 & 178 & 0 & 0.8 & 1 & 0 & 3 & 0\\\\\n",
       "\t 57 & 0 & 4 & 120 & 354 & 0 & 0 & 163 & 1 & 0.6 & 1 & 0 & 3 & 0\\\\\n",
       "\t 52 & 1 & 3 & 172 & 199 & 1 & 0 & 162 & 0 & 0.5 & 1 & 0 & 7 & 0\\\\\n",
       "\t 57 & 1 & 3 & 150 & 168 & 0 & 0 & 174 & 0 & 1.6 & 1 & 0 & 3 & 0\\\\\n",
       "\t 48 & 0 & 3 & 130 & 275 & 0 & 0 & 139 & 0 & 0.2 & 1 & 0 & 3 & 0\\\\\n",
       "\t 58 & 0 & 1 & 150 & 283 & 1 & 2 & 162 & 0 & 1.0 & 1 & 0 & 3 & 0\\\\\n",
       "\\end{tabular}\n"
      ],
      "text/markdown": [
       "\n",
       "A tibble: 6 × 14\n",
       "\n",
       "| age &lt;dbl&gt; | sex &lt;dbl&gt; | chest_pain &lt;dbl&gt; | rest_bps &lt;dbl&gt; | chol &lt;dbl&gt; | fbs &lt;dbl&gt; | rest_ecg &lt;dbl&gt; | max_hr &lt;dbl&gt; | ex_ang &lt;dbl&gt; | st_depression &lt;dbl&gt; | slope &lt;dbl&gt; | col_vessels &lt;dbl&gt; | defect &lt;dbl&gt; | num &lt;fct&gt; |\n",
       "|---|---|---|---|---|---|---|---|---|---|---|---|---|---|\n",
       "| 56 | 1 | 2 | 120 | 236 | 0 | 0 | 178 | 0 | 0.8 | 1 | 0 | 3 | 0 |\n",
       "| 57 | 0 | 4 | 120 | 354 | 0 | 0 | 163 | 1 | 0.6 | 1 | 0 | 3 | 0 |\n",
       "| 52 | 1 | 3 | 172 | 199 | 1 | 0 | 162 | 0 | 0.5 | 1 | 0 | 7 | 0 |\n",
       "| 57 | 1 | 3 | 150 | 168 | 0 | 0 | 174 | 0 | 1.6 | 1 | 0 | 3 | 0 |\n",
       "| 48 | 0 | 3 | 130 | 275 | 0 | 0 | 139 | 0 | 0.2 | 1 | 0 | 3 | 0 |\n",
       "| 58 | 0 | 1 | 150 | 283 | 1 | 2 | 162 | 0 | 1.0 | 1 | 0 | 3 | 0 |\n",
       "\n"
      ],
      "text/plain": [
       "  age sex chest_pain rest_bps chol fbs rest_ecg max_hr ex_ang st_depression\n",
       "1 56  1   2          120      236  0   0        178    0      0.8          \n",
       "2 57  0   4          120      354  0   0        163    1      0.6          \n",
       "3 52  1   3          172      199  1   0        162    0      0.5          \n",
       "4 57  1   3          150      168  0   0        174    0      1.6          \n",
       "5 48  0   3          130      275  0   0        139    0      0.2          \n",
       "6 58  0   1          150      283  1   2        162    0      1.0          \n",
       "  slope col_vessels defect num\n",
       "1 1     0           3      0  \n",
       "2 1     0           3      0  \n",
       "3 1     0           7      0  \n",
       "4 1     0           3      0  \n",
       "5 1     0           3      0  \n",
       "6 1     0           3      0  "
      ]
     },
     "metadata": {},
     "output_type": "display_data"
    }
   ],
   "source": [
    "heart_disease_split_subset <- initial_split(heart_disease_subset, prop = 0.75, strata = num)\n",
    "heart_disease_training_subset <- training(heart_disease_split)\n",
    "heart_disease_testing_subset <- testing(heart_disease_split_subset)\n",
    "\n",
    "head(heart_disease_training_subset)"
   ]
  },
  {
   "cell_type": "code",
   "execution_count": 22,
   "id": "7fa6557d-efd5-490e-ac0f-adb2ded331d0",
   "metadata": {},
   "outputs": [
    {
     "name": "stdout",
     "output_type": "stream",
     "text": [
      "Start:  AIC=-443.65\n",
      "num ~ age + sex + chest_pain + rest_bps + chol + fbs + rest_ecg + \n",
      "    max_hr + ex_ang + st_depression + slope + col_vessels + defect\n",
      "\n",
      "                Df Sum of Sq    RSS     AIC\n",
      "- chol           1   0.03515 26.561 -445.35\n",
      "- st_depression  1   0.05642 26.583 -445.18\n",
      "- age            1   0.07716 26.604 -445.00\n",
      "- rest_ecg       1   0.17993 26.706 -444.15\n",
      "- slope          1   0.19381 26.720 -444.03\n",
      "- rest_bps       1   0.22132 26.748 -443.80\n",
      "- fbs            1   0.22355 26.750 -443.78\n",
      "<none>                       26.526 -443.65\n",
      "- max_hr         1   0.41169 26.938 -442.23\n",
      "- chest_pain     1   0.61871 27.145 -440.53\n",
      "- sex            1   0.86185 27.388 -438.55\n",
      "- ex_ang         1   0.93857 27.465 -437.93\n",
      "- defect         1   1.84309 28.369 -430.74\n",
      "- col_vessels    1   3.15210 29.678 -420.72\n",
      "\n",
      "Step:  AIC=-445.35\n",
      "num ~ age + sex + chest_pain + rest_bps + fbs + rest_ecg + max_hr + \n",
      "    ex_ang + st_depression + slope + col_vessels + defect\n",
      "\n",
      "                Df Sum of Sq    RSS     AIC\n",
      "- st_depression  1    0.0654 26.627 -446.81\n",
      "- age            1    0.0655 26.627 -446.81\n",
      "- slope          1    0.1789 26.740 -445.86\n",
      "- rest_ecg       1    0.2077 26.769 -445.62\n",
      "- fbs            1    0.2211 26.783 -445.51\n",
      "- rest_bps       1    0.2376 26.799 -445.38\n",
      "<none>                       26.561 -445.35\n",
      "- max_hr         1    0.3934 26.955 -444.09\n",
      "- chest_pain     1    0.6202 27.182 -442.23\n",
      "- sex            1    0.8283 27.390 -440.54\n",
      "- ex_ang         1    0.9711 27.533 -439.38\n",
      "- defect         1    1.8704 28.432 -432.25\n",
      "- col_vessels    1    3.2239 29.785 -421.92\n",
      "\n",
      "Step:  AIC=-446.81\n",
      "num ~ age + sex + chest_pain + rest_bps + fbs + rest_ecg + max_hr + \n",
      "    ex_ang + slope + col_vessels + defect\n",
      "\n",
      "              Df Sum of Sq    RSS     AIC\n",
      "- age          1    0.0661 26.693 -448.26\n",
      "- rest_ecg     1    0.2009 26.828 -447.14\n",
      "- fbs          1    0.2311 26.858 -446.89\n",
      "<none>                     26.627 -446.81\n",
      "- rest_bps     1    0.2908 26.918 -446.40\n",
      "- slope        1    0.4077 27.035 -445.43\n",
      "- max_hr       1    0.4324 27.059 -445.23\n",
      "- chest_pain   1    0.6699 27.297 -443.29\n",
      "- sex          1    0.8722 27.499 -441.65\n",
      "- ex_ang       1    1.0051 27.632 -440.58\n",
      "- defect       1    1.8963 28.523 -433.54\n",
      "- col_vessels  1    3.4037 30.030 -422.10\n",
      "\n",
      "Step:  AIC=-448.26\n",
      "num ~ sex + chest_pain + rest_bps + fbs + rest_ecg + max_hr + \n",
      "    ex_ang + slope + col_vessels + defect\n",
      "\n",
      "              Df Sum of Sq    RSS     AIC\n",
      "- rest_ecg     1    0.1931 26.886 -448.66\n",
      "- fbs          1    0.2394 26.932 -448.28\n",
      "- rest_bps     1    0.2405 26.933 -448.27\n",
      "<none>                     26.693 -448.26\n",
      "- max_hr       1    0.3705 27.063 -447.20\n",
      "- slope        1    0.4231 27.116 -446.77\n",
      "- chest_pain   1    0.6846 27.378 -444.64\n",
      "- sex          1    0.9756 27.669 -442.29\n",
      "- ex_ang       1    1.0603 27.753 -441.61\n",
      "- defect       1    1.8467 28.540 -435.41\n",
      "- col_vessels  1    3.3782 30.071 -423.80\n",
      "\n",
      "Step:  AIC=-448.66\n",
      "num ~ sex + chest_pain + rest_bps + fbs + max_hr + ex_ang + slope + \n",
      "    col_vessels + defect\n",
      "\n",
      "              Df Sum of Sq    RSS     AIC\n",
      "- fbs          1    0.2292 27.115 -448.77\n",
      "<none>                     26.886 -448.66\n",
      "- rest_bps     1    0.3184 27.204 -448.04\n",
      "- max_hr       1    0.3428 27.229 -447.84\n",
      "- slope        1    0.5474 27.433 -446.18\n",
      "- chest_pain   1    0.7072 27.593 -444.89\n",
      "- sex          1    1.0777 27.964 -441.93\n",
      "- ex_ang       1    1.0972 27.983 -441.78\n",
      "- defect       1    1.7539 28.640 -436.63\n",
      "- col_vessels  1    3.5258 30.412 -423.30\n",
      "\n",
      "Step:  AIC=-448.77\n",
      "num ~ sex + chest_pain + rest_bps + max_hr + ex_ang + slope + \n",
      "    col_vessels + defect\n",
      "\n",
      "              Df Sum of Sq    RSS     AIC\n",
      "- rest_bps     1    0.2337 27.349 -448.87\n",
      "<none>                     27.115 -448.77\n",
      "- max_hr       1    0.3810 27.496 -447.68\n",
      "- slope        1    0.5303 27.645 -446.47\n",
      "- chest_pain   1    0.7432 27.858 -444.77\n",
      "- sex          1    1.0486 28.164 -442.35\n",
      "- ex_ang       1    1.0577 28.173 -442.28\n",
      "- defect       1    1.7977 28.913 -436.52\n",
      "- col_vessels  1    3.3302 30.445 -425.06\n",
      "\n",
      "Step:  AIC=-448.87\n",
      "num ~ sex + chest_pain + max_hr + ex_ang + slope + col_vessels + \n",
      "    defect\n",
      "\n",
      "              Df Sum of Sq    RSS     AIC\n",
      "<none>                     27.349 -448.87\n",
      "- max_hr       1    0.3640 27.713 -447.93\n",
      "- slope        1    0.5922 27.941 -446.11\n",
      "- chest_pain   1    0.6003 27.949 -446.05\n",
      "- sex          1    0.9360 28.285 -443.40\n",
      "- ex_ang       1    1.1553 28.504 -441.68\n",
      "- defect       1    2.0884 29.437 -434.53\n",
      "- col_vessels  1    3.4583 30.807 -424.43\n"
     ]
    },
    {
     "data": {
      "text/plain": [
       "\n",
       "Call:\n",
       "lm(formula = num ~ sex + chest_pain + max_hr + ex_ang + slope + \n",
       "    col_vessels + defect, data = heart_disease_training_aic_subset)\n",
       "\n",
       "Coefficients:\n",
       "(Intercept)          sex   chest_pain       max_hr       ex_ang        slope  \n",
       "   0.879380     0.152846     0.067130    -0.002342     0.193006     0.096704  \n",
       "col_vessels       defect  \n",
       "   0.141677     0.061856  \n"
      ]
     },
     "metadata": {},
     "output_type": "display_data"
    }
   ],
   "source": [
    "# the MASS library requires all values to be an integer\n",
    "heart_disease_training_aic_subset <- heart_disease_training_subset %>%\n",
    "    mutate(num = as.numeric(num))\n",
    "\n",
    "null <- lm(num ~ 1, data = heart_disease_training_aic_subset) # 1 means no predictor \n",
    "full <- lm(num ~ ., data = heart_disease_training_aic_subset) # use all predictors\n",
    " \n",
    "# this function goes from full (all predictors) to null (no predictors) \n",
    "# and removes the predictor whose removal decreases the AIC the most\n",
    "stepAIC(full, scope = list(lower = null, upper=full), \n",
    "         data = heart_disease_training_aic_subset,\n",
    "         direction = 'backward')"
   ]
  },
  {
   "cell_type": "code",
   "execution_count": 23,
   "id": "d7278706-08d4-4a84-a45d-c2181c2bb049",
   "metadata": {},
   "outputs": [],
   "source": [
    "# create recipe for k-nn using the previously mentioned predictors\n",
    "heart_disease_recipe_subset <- recipe(num ~ sex + chest_pain + max_hr + ex_ang + slope + col_vessels + defect,\n",
    "                               data = heart_disease_training_subset) %>%\n",
    "                        # normalize data\n",
    "                        step_scale(all_predictors()) %>%\n",
    "                        step_center(all_predictors())"
   ]
  },
  {
   "cell_type": "code",
   "execution_count": 24,
   "id": "cfd89266-ae69-4eeb-876f-c3784322ad41",
   "metadata": {},
   "outputs": [
    {
     "data": {
      "text/html": [
       "<table class=\"dataframe\">\n",
       "<caption>A tibble: 14 × 7</caption>\n",
       "<thead>\n",
       "\t<tr><th scope=col>neighbors</th><th scope=col>.metric</th><th scope=col>.estimator</th><th scope=col>mean</th><th scope=col>n</th><th scope=col>std_err</th><th scope=col>.config</th></tr>\n",
       "\t<tr><th scope=col>&lt;dbl&gt;</th><th scope=col>&lt;chr&gt;</th><th scope=col>&lt;chr&gt;</th><th scope=col>&lt;dbl&gt;</th><th scope=col>&lt;int&gt;</th><th scope=col>&lt;dbl&gt;</th><th scope=col>&lt;chr&gt;</th></tr>\n",
       "</thead>\n",
       "<tbody>\n",
       "\t<tr><td>31</td><td>accuracy</td><td>binary</td><td>0.8379798</td><td>5</td><td>0.02151148</td><td>Preprocessor1_Model07</td></tr>\n",
       "\t<tr><td>41</td><td>accuracy</td><td>binary</td><td>0.8379798</td><td>5</td><td>0.02685159</td><td>Preprocessor1_Model09</td></tr>\n",
       "\t<tr><td>46</td><td>accuracy</td><td>binary</td><td>0.8379798</td><td>5</td><td>0.02685159</td><td>Preprocessor1_Model10</td></tr>\n",
       "\t<tr><td>⋮</td><td>⋮</td><td>⋮</td><td>⋮</td><td>⋮</td><td>⋮</td><td>⋮</td></tr>\n",
       "\t<tr><td>11</td><td>accuracy</td><td>binary</td><td>0.8064646</td><td>5</td><td>0.02380626</td><td>Preprocessor1_Model03</td></tr>\n",
       "\t<tr><td> 6</td><td>accuracy</td><td>binary</td><td>0.8018182</td><td>5</td><td>0.02586164</td><td>Preprocessor1_Model02</td></tr>\n",
       "\t<tr><td> 1</td><td>accuracy</td><td>binary</td><td>0.7520202</td><td>5</td><td>0.01130456</td><td>Preprocessor1_Model01</td></tr>\n",
       "</tbody>\n",
       "</table>\n"
      ],
      "text/latex": [
       "A tibble: 14 × 7\n",
       "\\begin{tabular}{lllllll}\n",
       " neighbors & .metric & .estimator & mean & n & std\\_err & .config\\\\\n",
       " <dbl> & <chr> & <chr> & <dbl> & <int> & <dbl> & <chr>\\\\\n",
       "\\hline\n",
       "\t 31 & accuracy & binary & 0.8379798 & 5 & 0.02151148 & Preprocessor1\\_Model07\\\\\n",
       "\t 41 & accuracy & binary & 0.8379798 & 5 & 0.02685159 & Preprocessor1\\_Model09\\\\\n",
       "\t 46 & accuracy & binary & 0.8379798 & 5 & 0.02685159 & Preprocessor1\\_Model10\\\\\n",
       "\t ⋮ & ⋮ & ⋮ & ⋮ & ⋮ & ⋮ & ⋮\\\\\n",
       "\t 11 & accuracy & binary & 0.8064646 & 5 & 0.02380626 & Preprocessor1\\_Model03\\\\\n",
       "\t  6 & accuracy & binary & 0.8018182 & 5 & 0.02586164 & Preprocessor1\\_Model02\\\\\n",
       "\t  1 & accuracy & binary & 0.7520202 & 5 & 0.01130456 & Preprocessor1\\_Model01\\\\\n",
       "\\end{tabular}\n"
      ],
      "text/markdown": [
       "\n",
       "A tibble: 14 × 7\n",
       "\n",
       "| neighbors &lt;dbl&gt; | .metric &lt;chr&gt; | .estimator &lt;chr&gt; | mean &lt;dbl&gt; | n &lt;int&gt; | std_err &lt;dbl&gt; | .config &lt;chr&gt; |\n",
       "|---|---|---|---|---|---|---|\n",
       "| 31 | accuracy | binary | 0.8379798 | 5 | 0.02151148 | Preprocessor1_Model07 |\n",
       "| 41 | accuracy | binary | 0.8379798 | 5 | 0.02685159 | Preprocessor1_Model09 |\n",
       "| 46 | accuracy | binary | 0.8379798 | 5 | 0.02685159 | Preprocessor1_Model10 |\n",
       "| ⋮ | ⋮ | ⋮ | ⋮ | ⋮ | ⋮ | ⋮ |\n",
       "| 11 | accuracy | binary | 0.8064646 | 5 | 0.02380626 | Preprocessor1_Model03 |\n",
       "|  6 | accuracy | binary | 0.8018182 | 5 | 0.02586164 | Preprocessor1_Model02 |\n",
       "|  1 | accuracy | binary | 0.7520202 | 5 | 0.01130456 | Preprocessor1_Model01 |\n",
       "\n"
      ],
      "text/plain": [
       "   neighbors .metric  .estimator mean      n std_err    .config              \n",
       "1  31        accuracy binary     0.8379798 5 0.02151148 Preprocessor1_Model07\n",
       "2  41        accuracy binary     0.8379798 5 0.02685159 Preprocessor1_Model09\n",
       "3  46        accuracy binary     0.8379798 5 0.02685159 Preprocessor1_Model10\n",
       "⋮  ⋮         ⋮        ⋮          ⋮         ⋮ ⋮          ⋮                    \n",
       "12 11        accuracy binary     0.8064646 5 0.02380626 Preprocessor1_Model03\n",
       "13  6        accuracy binary     0.8018182 5 0.02586164 Preprocessor1_Model02\n",
       "14  1        accuracy binary     0.7520202 5 0.01130456 Preprocessor1_Model01"
      ]
     },
     "metadata": {},
     "output_type": "display_data"
    },
    {
     "data": {
      "text/html": [
       "31"
      ],
      "text/latex": [
       "31"
      ],
      "text/markdown": [
       "31"
      ],
      "text/plain": [
       "[1] 31"
      ]
     },
     "metadata": {},
     "output_type": "display_data"
    }
   ],
   "source": [
    "# create a standard 5 fold model of the training data\n",
    "heart_disease_vfold_subset <- vfold_cv(heart_disease_training_subset, v = 5, strata = num)\n",
    "\n",
    "heart_disease_tune_results_ss <- workflow() %>%\n",
    "  # add our recipe and model\n",
    "  add_recipe(heart_disease_recipe_subset) %>%\n",
    "  add_model(heart_disease_tune) %>%\n",
    "  # tune the grid to involve vfold and tuned neighbour \n",
    "  tune_grid(resamples = heart_disease_vfold_subset, grid = k_vals) %>%\n",
    "  collect_metrics() \n",
    "\n",
    "# sort accuracies by the accuracy of the neighbour count\n",
    "(accuracies_ss <- heart_disease_tune_results_ss %>%\n",
    "  filter(.metric == \"accuracy\") %>%\n",
    "  arrange(desc(mean)))\n",
    "\n",
    "# get the k value with the highest accuracy\n",
    "(best_k_value_ss <- accuracies_ss %>%\n",
    "    dplyr::select(neighbors) %>%\n",
    "    slice(1) %>%\n",
    "    pull())"
   ]
  },
  {
   "cell_type": "code",
   "execution_count": 25,
   "id": "0897abbe-76fc-4f24-9661-30c0350be620",
   "metadata": {},
   "outputs": [
    {
     "data": {
      "text/html": [
       "<table class=\"dataframe\">\n",
       "<caption>A tibble: 16 × 7</caption>\n",
       "<thead>\n",
       "\t<tr><th scope=col>neighbors</th><th scope=col>.metric</th><th scope=col>.estimator</th><th scope=col>mean</th><th scope=col>n</th><th scope=col>std_err</th><th scope=col>.config</th></tr>\n",
       "\t<tr><th scope=col>&lt;dbl&gt;</th><th scope=col>&lt;chr&gt;</th><th scope=col>&lt;chr&gt;</th><th scope=col>&lt;dbl&gt;</th><th scope=col>&lt;int&gt;</th><th scope=col>&lt;dbl&gt;</th><th scope=col>&lt;chr&gt;</th></tr>\n",
       "</thead>\n",
       "<tbody>\n",
       "\t<tr><td>29</td><td>accuracy</td><td>binary</td><td>0.8425253</td><td>5</td><td>0.02327477</td><td>Preprocessor1_Model04</td></tr>\n",
       "\t<tr><td>30</td><td>accuracy</td><td>binary</td><td>0.8425253</td><td>5</td><td>0.02327477</td><td>Preprocessor1_Model05</td></tr>\n",
       "\t<tr><td>27</td><td>accuracy</td><td>binary</td><td>0.8379798</td><td>5</td><td>0.02151148</td><td>Preprocessor1_Model02</td></tr>\n",
       "\t<tr><td>⋮</td><td>⋮</td><td>⋮</td><td>⋮</td><td>⋮</td><td>⋮</td><td>⋮</td></tr>\n",
       "\t<tr><td>39</td><td>accuracy</td><td>binary</td><td>0.8335354</td><td>5</td><td>0.02601946</td><td>Preprocessor1_Model14</td></tr>\n",
       "\t<tr><td>40</td><td>accuracy</td><td>binary</td><td>0.8335354</td><td>5</td><td>0.02601946</td><td>Preprocessor1_Model15</td></tr>\n",
       "\t<tr><td>26</td><td>accuracy</td><td>binary</td><td>0.8289899</td><td>5</td><td>0.02293374</td><td>Preprocessor1_Model01</td></tr>\n",
       "</tbody>\n",
       "</table>\n"
      ],
      "text/latex": [
       "A tibble: 16 × 7\n",
       "\\begin{tabular}{lllllll}\n",
       " neighbors & .metric & .estimator & mean & n & std\\_err & .config\\\\\n",
       " <dbl> & <chr> & <chr> & <dbl> & <int> & <dbl> & <chr>\\\\\n",
       "\\hline\n",
       "\t 29 & accuracy & binary & 0.8425253 & 5 & 0.02327477 & Preprocessor1\\_Model04\\\\\n",
       "\t 30 & accuracy & binary & 0.8425253 & 5 & 0.02327477 & Preprocessor1\\_Model05\\\\\n",
       "\t 27 & accuracy & binary & 0.8379798 & 5 & 0.02151148 & Preprocessor1\\_Model02\\\\\n",
       "\t ⋮ & ⋮ & ⋮ & ⋮ & ⋮ & ⋮ & ⋮\\\\\n",
       "\t 39 & accuracy & binary & 0.8335354 & 5 & 0.02601946 & Preprocessor1\\_Model14\\\\\n",
       "\t 40 & accuracy & binary & 0.8335354 & 5 & 0.02601946 & Preprocessor1\\_Model15\\\\\n",
       "\t 26 & accuracy & binary & 0.8289899 & 5 & 0.02293374 & Preprocessor1\\_Model01\\\\\n",
       "\\end{tabular}\n"
      ],
      "text/markdown": [
       "\n",
       "A tibble: 16 × 7\n",
       "\n",
       "| neighbors &lt;dbl&gt; | .metric &lt;chr&gt; | .estimator &lt;chr&gt; | mean &lt;dbl&gt; | n &lt;int&gt; | std_err &lt;dbl&gt; | .config &lt;chr&gt; |\n",
       "|---|---|---|---|---|---|---|\n",
       "| 29 | accuracy | binary | 0.8425253 | 5 | 0.02327477 | Preprocessor1_Model04 |\n",
       "| 30 | accuracy | binary | 0.8425253 | 5 | 0.02327477 | Preprocessor1_Model05 |\n",
       "| 27 | accuracy | binary | 0.8379798 | 5 | 0.02151148 | Preprocessor1_Model02 |\n",
       "| ⋮ | ⋮ | ⋮ | ⋮ | ⋮ | ⋮ | ⋮ |\n",
       "| 39 | accuracy | binary | 0.8335354 | 5 | 0.02601946 | Preprocessor1_Model14 |\n",
       "| 40 | accuracy | binary | 0.8335354 | 5 | 0.02601946 | Preprocessor1_Model15 |\n",
       "| 26 | accuracy | binary | 0.8289899 | 5 | 0.02293374 | Preprocessor1_Model01 |\n",
       "\n"
      ],
      "text/plain": [
       "   neighbors .metric  .estimator mean      n std_err    .config              \n",
       "1  29        accuracy binary     0.8425253 5 0.02327477 Preprocessor1_Model04\n",
       "2  30        accuracy binary     0.8425253 5 0.02327477 Preprocessor1_Model05\n",
       "3  27        accuracy binary     0.8379798 5 0.02151148 Preprocessor1_Model02\n",
       "⋮  ⋮         ⋮        ⋮          ⋮         ⋮ ⋮          ⋮                    \n",
       "14 39        accuracy binary     0.8335354 5 0.02601946 Preprocessor1_Model14\n",
       "15 40        accuracy binary     0.8335354 5 0.02601946 Preprocessor1_Model15\n",
       "16 26        accuracy binary     0.8289899 5 0.02293374 Preprocessor1_Model01"
      ]
     },
     "metadata": {},
     "output_type": "display_data"
    },
    {
     "data": {
      "text/html": [
       "29"
      ],
      "text/latex": [
       "29"
      ],
      "text/markdown": [
       "29"
      ],
      "text/plain": [
       "[1] 29"
      ]
     },
     "metadata": {},
     "output_type": "display_data"
    }
   ],
   "source": [
    "# since 46 seems to be in the same range as 41 for the accuracy, we will let this tibble\n",
    "# extend more to the right of the best_k_value than to the left\n",
    "k_vals_precise_ss <- tibble(neighbors = seq(from = best_k_value_ss - 5, to = best_k_value_ss + 10, by = 1))\n",
    "\n",
    "# the rest of this code is essentially copy pasted from the last time we ran this\n",
    "# workflow, but with updated names; notice that we can reuse our old recipe and \n",
    "# specification\n",
    "heart_disease_tune_results_precise_ss <- workflow() %>%\n",
    "  add_recipe(heart_disease_recipe_subset) %>%\n",
    "  add_model(heart_disease_tune) %>%\n",
    "  tune_grid(resamples = heart_disease_vfold_subset, grid = k_vals_precise_ss) %>%\n",
    "  collect_metrics() \n",
    "\n",
    "(accuracies_precise_ss <- heart_disease_tune_results_precise_ss %>%\n",
    "  filter(.metric == \"accuracy\") %>%\n",
    "  arrange(desc(mean)))\n",
    "\n",
    "(best_k_value_precise_ss <- accuracies_precise_ss %>%\n",
    "    dplyr::select(neighbors) %>%\n",
    "    slice(1) %>%\n",
    "    pull())"
   ]
  },
  {
   "cell_type": "code",
   "execution_count": 27,
   "id": "40a03de9-00c5-4f91-b04f-f2194150db45",
   "metadata": {},
   "outputs": [],
   "source": [
    "knn_spec <- nearest_neighbor(weight_func = \"rectangular\", \n",
    "                             neighbors = best_k_value_precise_ss) %>%\n",
    "  set_engine(\"kknn\") %>%\n",
    "  set_mode(\"classification\")\n",
    "\n",
    "knn_fit_ss <- workflow() %>%\n",
    "  add_recipe(heart_disease_recipe_subset) %>%\n",
    "  add_model(knn_spec) %>%\n",
    "  fit(data = heart_disease_training_subset)"
   ]
  },
  {
   "cell_type": "code",
   "execution_count": 28,
   "id": "e2385a5c-728d-4045-83ad-e1912f2396a3",
   "metadata": {},
   "outputs": [
    {
     "data": {
      "text/html": [
       "<table class=\"dataframe\">\n",
       "<caption>A tibble: 1 × 3</caption>\n",
       "<thead>\n",
       "\t<tr><th scope=col>.metric</th><th scope=col>.estimator</th><th scope=col>.estimate</th></tr>\n",
       "\t<tr><th scope=col>&lt;chr&gt;</th><th scope=col>&lt;chr&gt;</th><th scope=col>&lt;dbl&gt;</th></tr>\n",
       "</thead>\n",
       "<tbody>\n",
       "\t<tr><td>accuracy</td><td>binary</td><td>0.9473684</td></tr>\n",
       "</tbody>\n",
       "</table>\n"
      ],
      "text/latex": [
       "A tibble: 1 × 3\n",
       "\\begin{tabular}{lll}\n",
       " .metric & .estimator & .estimate\\\\\n",
       " <chr> & <chr> & <dbl>\\\\\n",
       "\\hline\n",
       "\t accuracy & binary & 0.9473684\\\\\n",
       "\\end{tabular}\n"
      ],
      "text/markdown": [
       "\n",
       "A tibble: 1 × 3\n",
       "\n",
       "| .metric &lt;chr&gt; | .estimator &lt;chr&gt; | .estimate &lt;dbl&gt; |\n",
       "|---|---|---|\n",
       "| accuracy | binary | 0.9473684 |\n",
       "\n"
      ],
      "text/plain": [
       "  .metric  .estimator .estimate\n",
       "1 accuracy binary     0.9473684"
      ]
     },
     "metadata": {},
     "output_type": "display_data"
    }
   ],
   "source": [
    "heart_disease_test_predictions_ss <- predict(knn_fit_ss, heart_disease_testing_subset) %>%\n",
    "  bind_cols(heart_disease_testing_subset)\n",
    "\n",
    "(heart_disease_test_predictions_ss %>%\n",
    "  metrics(truth = num, estimate = .pred_class) %>%\n",
    "  filter(.metric == \"accuracy\"))"
   ]
  },
  {
   "cell_type": "code",
   "execution_count": 30,
   "id": "c51a9062-3509-4bad-977b-f113bc72ded2",
   "metadata": {},
   "outputs": [
    {
     "name": "stderr",
     "output_type": "stream",
     "text": [
      "Scale for 'fill' is already present. Adding another scale for 'fill', which\n",
      "will replace the existing scale.\n",
      "\n"
     ]
    },
    {
     "data": {
      "image/png": "[encoded data removed]",
      "text/plain": [
       "plot without title"
      ]
     },
     "metadata": {
      "image/png": {
       "height": 480,
       "width": 480
      }
     },
     "output_type": "display_data"
    }
   ],
   "source": [
    "options(repr.plot.width = 8, repr.plot.height = 8)\n",
    "\n",
    "confusion_ss <- heart_disease_test_predictions_ss %>%\n",
    "             conf_mat(truth = num, estimate = .pred_class)\n",
    "\n",
    "autoplot(confusion_ss, type = \"heatmap\") +\n",
    "  scale_fill_gradient(low = \"red\", high = \"green\") +\n",
    "  ggtitle(\"Confusion Matrix\") +\n",
    "  # make all text bigger\n",
    "  theme(\n",
    "      axis.title.x = element_text(size = 14),\n",
    "      axis.title.y = element_text(size = 14),\n",
    "      plot.title = element_text(size = 20)\n",
    "  )"
   ]
  },
  {
   "cell_type": "markdown",
   "id": "b977723f-044a-4e47-aa65-b656745e26bf",
   "metadata": {},
   "source": [
    "## Discussion"
   ]
  },
  {
   "cell_type": "code",
   "execution_count": null,
   "id": "dd1608b4-48f5-4e02-86c3-9eed61f9ce41",
   "metadata": {},
   "outputs": [],
   "source": []
  },
  {
   "cell_type": "markdown",
   "id": "da413131-afa6-4172-88bf-1cc473e329e0",
   "metadata": {},
   "source": [
    "Our model used the k-nearest neighbours algorithm with the data set of Cleveland heart disease patients to come up with an accuracy of 59% when determining the presence or lack thereof of heart disease (and the type of heart disease detected). Since the majority classifier in the data was 54%, our model improved on the majority classifier by 5%. If we look at the confusion matrix, our model is very good at determining cases where the patient had no heart disease. This was to be expected given the oversampling of cases in the data set where the patient had no heart disease.\n",
    "\n",
    "These findings can be important to future studies or can be put to use at current medical institutions. However, we would need for this model to be a lot more accurate than 59% before we start seeing real life usage of it. We believe that firstly, more data needs to be collected. Somewhere in the level of `n = 1000-5000`. Then, we can possibly see a highly accurate models which could be used to quickly classify patients. If the model predicts any patients with `num = 3` or `num = 4`, we know then that there is a high possibility that this patient has severe heart disease and should be checked with promptly. \n",
    "\n",
    "Future questions and research directions could include:\n",
    "\n",
    "1. How can we improve the accuracy of the model further? Are there other machine learning algorithms or techniques that might yield better results with this dataset, such as logistic regression, support vector machines, or deep learning?\n",
    "2. What additional features or predictors could be included in the analysis to improve the model's performance? Are there any other medical tests or patient characteristics that might be relevant in predicting heart disease?\n",
    "3. How does the model's performance change when trained on a larger, more diverse dataset? Would collecting data from a wider variety of sources or locations help improve the model's generalizability?\n",
    "4. How can we validate the model's performance in real-world settings? Can we set up clinical trials or partnerships with medical institutions to test the model's predictions against actual patient outcomes?\n",
    "5. What are the ethical implications of using data science algorithms in healthcare, particularly in the context of predicting heart disease? How can we ensure that the models do not perpetuate biases or lead to unfair treatment of patients?\n",
    "6. How can the model be integrated into existing healthcare workflows and systems? What changes might need to be made to the model or the way it is used to ensure that it can be effectively employed by medical professionals?\n",
    "\n",
    "By addressing these questions in future studies, we can continue to refine the predictive model and better understand its potential applications and limitations in the context of heart disease diagnosis and treatment."
   ]
  },
  {
   "cell_type": "markdown",
   "id": "b6ee8710-a95b-4159-9fd5-0800770d3d45",
   "metadata": {},
   "source": [
    "## References"
   ]
  },
  {
   "cell_type": "markdown",
   "id": "42edd1f2-b06b-4abf-bff5-4943696958bf",
   "metadata": {
    "tags": []
   },
   "source": [
    "<?xml version=\"1.0\"?>\n",
    "<div class=\"csl-bib-body\" style=\"line-height: 2; \">\n",
    "  <div class=\"csl-entry\" style=\"clear: left; \">\n",
    "    <div class=\"csl-left-margin\" style=\"float: left; padding-right: 0.5em; text-align: right; width: 1em;\">[1]</div><div class=\"csl-right-inline\" style=\"margin: 0 .4em 0 1.5em;\">&#x201C;Akaike Information Criterion - an Overview,&#x201D; <i>ScienceDirect</i>. https://www.sciencedirect.com/topics/mathematics/akaike-information-criterion</div>\n",
    "  </div>\n",
    "  <div class=\"csl-entry\" style=\"clear: left; \">\n",
    "    <div class=\"csl-left-margin\" style=\"float: left; padding-right: 0.5em; text-align: right; width: 1em;\">[2]</div><div class=\"csl-right-inline\" style=\"margin: 0 .4em 0 1.5em;\">G. James, D. Witten, T. Hastie, and R. Tibshirani, <i>An Introduction to Statistical Learning</i>, vol. 103. New York, NY: Springer New York, 2013. doi: 10.1007/978-1-4614-7138-7.</div>\n",
    "  </div>\n",
    "  <div class=\"csl-entry\" style=\"clear: left; \">\n",
    "    <div class=\"csl-left-margin\" style=\"float: left; padding-right: 0.5em; text-align: right; width: 1em;\">[3]</div><div class=\"csl-right-inline\" style=\"margin: 0 .4em 0 1.5em;\">&#x201C;Modify components of a theme,&#x201D; <i>ggplot2</i>. https://ggplot2.tidyverse.org/reference/theme.html</div>\n",
    "  </div>\n",
    "  <div class=\"csl-entry\" style=\"clear: left; \">\n",
    "    <div class=\"csl-left-margin\" style=\"float: left; padding-right: 0.5em; text-align: right; width: 1em;\">[4]</div><div class=\"csl-right-inline\" style=\"margin: 0 .4em 0 1.5em;\">&#x201C;grep: Pattern Matching and Replacement,&#x201D; <i>RDocumentation</i>. https://www.rdocumentation.org/packages/base/versions/3.6.2/topics/grep</div>\n",
    "  </div>\n",
    "  <div class=\"csl-entry\" style=\"clear: left; \">\n",
    "    <div class=\"csl-left-margin\" style=\"float: left; padding-right: 0.5em; text-align: right; width: 1em;\">[5]</div><div class=\"csl-right-inline\" style=\"margin: 0 .4em 0 1.5em;\">&#x201C;ggpairs: ggplot2 generalized pairs plot,&#x201D; <i>rdrr.io</i>. https://rdrr.io/cran/GGally/man/ggpairs.html</div>\n",
    "  </div>\n",
    "  <div class=\"csl-entry\" style=\"clear: left; \">\n",
    "    <div class=\"csl-left-margin\" style=\"float: left; padding-right: 0.5em; text-align: right; width: 1em;\">[6]</div><div class=\"csl-right-inline\" style=\"margin: 0 .4em 0 1.5em;\">Z. Zhang and L. Wang, <i>Advanced statistics using R</i>. ISDSA Press, 2017. doi: 10.35566/advstats.</div>\n",
    "  </div>\n",
    "  <div class=\"csl-entry\" style=\"clear: left; \">\n",
    "    <div class=\"csl-left-margin\" style=\"float: left; padding-right: 0.5em; text-align: right; width: 1em;\">[7]</div><div class=\"csl-right-inline\" style=\"margin: 0 .4em 0 1.5em;\">T. Timbers, Trevor Campbell, and Melissa Lee, <i>Data Science: A First Introduction</i>. [Online]. Available: https://datasciencebook.ca/</div>\n",
    "  </div>\n",
    "</div>\n"
   ]
  }
 ],
 "metadata": {
  "kernelspec": {
   "display_name": "R",
   "language": "R",
   "name": "ir"
  },
  "language_info": {
   "codemirror_mode": "r",
   "file_extension": ".r",
   "mimetype": "text/x-r-source",
   "name": "R",
   "pygments_lexer": "r",
   "version": "4.1.3"
  }
 },
 "nbformat": 4,
 "nbformat_minor": 5
}
